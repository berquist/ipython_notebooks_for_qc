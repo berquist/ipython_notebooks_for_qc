{
 "cells": [
  {
   "cell_type": "markdown",
   "metadata": {},
   "source": [
    "# Reading QM outputs"
   ]
  },
  {
   "cell_type": "code",
   "execution_count": 1,
   "metadata": {
    "collapsed": true
   },
   "outputs": [],
   "source": [
    "# This is to prevent stale code from being executed in those pesky *.pyc files, just in case.\n",
    "%load_ext autoreload\n",
    "%autoreload 2"
   ]
  },
  {
   "cell_type": "markdown",
   "metadata": {},
   "source": [
    "There are a few ways of opening text files, reading them, and parsing their contents. I'll use one of our CO2 frequency outputs as an example."
   ]
  },
  {
   "cell_type": "code",
   "execution_count": 2,
   "metadata": {
    "collapsed": false
   },
   "outputs": [],
   "source": [
    "import os"
   ]
  },
  {
   "cell_type": "code",
   "execution_count": 3,
   "metadata": {
    "collapsed": false
   },
   "outputs": [
    {
     "data": {
      "text/plain": [
       "['.git',\n",
       " '.ipynb_checkpoints',\n",
       " 'Reading QM outputs.ipynb',\n",
       " 'qm_files',\n",
       " 'Plotting.html',\n",
       " 'Plotting.ipynb',\n",
       " 'Frequency Calculations.ipynb',\n",
       " 'LICENSE.txt',\n",
       " 'Frequency Calculations.html',\n",
       " '.gitignore',\n",
       " 'README.md',\n",
       " 'Reading QM outputs.html']"
      ]
     },
     "execution_count": 3,
     "metadata": {},
     "output_type": "execute_result"
    }
   ],
   "source": [
    "os.listdir()"
   ]
  },
  {
   "cell_type": "code",
   "execution_count": 4,
   "metadata": {
    "collapsed": false
   },
   "outputs": [
    {
     "name": "stdout",
     "output_type": "stream",
     "text": [
      "Help on built-in function listdir in module posix:\n",
      "\n",
      "listdir(...)\n",
      "    listdir(path='.') -> list_of_filenames\n",
      "    \n",
      "    Return a list containing the names of the files in the directory.\n",
      "    The list is in arbitrary order.  It does not include the special\n",
      "    entries '.' and '..' even if they are present in the directory.\n",
      "    \n",
      "    path can be specified as either str or bytes.  If path is bytes,\n",
      "      the filenames returned will also be bytes; in all other circumstances\n",
      "      the filenames returned will be str.\n",
      "    On some platforms, path may also be specified as an open file descriptor;\n",
      "      the file descriptor must refer to a directory.\n",
      "      If this functionality is unavailable, using it raises NotImplementedError.\n",
      "\n"
     ]
    }
   ],
   "source": [
    "help(os.listdir)"
   ]
  },
  {
   "cell_type": "code",
   "execution_count": 5,
   "metadata": {
    "collapsed": false
   },
   "outputs": [
    {
     "data": {
      "text/plain": [
       "['drop_0375_0qm_0mm.out']"
      ]
     },
     "execution_count": 5,
     "metadata": {},
     "output_type": "execute_result"
    }
   ],
   "source": [
    "os.listdir(path=\"qm_files\")"
   ]
  },
  {
   "cell_type": "code",
   "execution_count": 6,
   "metadata": {
    "collapsed": false
   },
   "outputs": [
    {
     "name": "stdout",
     "output_type": "stream",
     "text": [
      "qm_files/drop_0375_0qm_0mm.out\n"
     ]
    }
   ],
   "source": [
    "filename = \"qm_files/drop_0375_0qm_0mm.out\"\n",
    "print(filename)"
   ]
  },
  {
   "cell_type": "markdown",
   "metadata": {},
   "source": [
    "## Opening a file 1"
   ]
  },
  {
   "cell_type": "markdown",
   "metadata": {},
   "source": [
    "Python has a built-in function called `open` that takes a filename as a string and returns a handle to it that we can work with, so it can be read, looped over, and closed."
   ]
  },
  {
   "cell_type": "code",
   "execution_count": 7,
   "metadata": {
    "collapsed": false,
    "scrolled": true
   },
   "outputs": [
    {
     "name": "stdout",
     "output_type": "stream",
     "text": [
      "Help on built-in function open in module io:\n",
      "\n",
      "open(...)\n",
      "    open(file, mode='r', buffering=-1, encoding=None,\n",
      "         errors=None, newline=None, closefd=True, opener=None) -> file object\n",
      "    \n",
      "    Open file and return a stream.  Raise IOError upon failure.\n",
      "    \n",
      "    file is either a text or byte string giving the name (and the path\n",
      "    if the file isn't in the current working directory) of the file to\n",
      "    be opened or an integer file descriptor of the file to be\n",
      "    wrapped. (If a file descriptor is given, it is closed when the\n",
      "    returned I/O object is closed, unless closefd is set to False.)\n",
      "    \n",
      "    mode is an optional string that specifies the mode in which the file\n",
      "    is opened. It defaults to 'r' which means open for reading in text\n",
      "    mode.  Other common values are 'w' for writing (truncating the file if\n",
      "    it already exists), 'x' for creating and writing to a new file, and\n",
      "    'a' for appending (which on some Unix systems, means that all writes\n",
      "    append to the end of the file regardless of the current seek position).\n",
      "    In text mode, if encoding is not specified the encoding used is platform\n",
      "    dependent: locale.getpreferredencoding(False) is called to get the\n",
      "    current locale encoding. (For reading and writing raw bytes use binary\n",
      "    mode and leave encoding unspecified.) The available modes are:\n",
      "    \n",
      "    ========= ===============================================================\n",
      "    Character Meaning\n",
      "    --------- ---------------------------------------------------------------\n",
      "    'r'       open for reading (default)\n",
      "    'w'       open for writing, truncating the file first\n",
      "    'x'       create a new file and open it for writing\n",
      "    'a'       open for writing, appending to the end of the file if it exists\n",
      "    'b'       binary mode\n",
      "    't'       text mode (default)\n",
      "    '+'       open a disk file for updating (reading and writing)\n",
      "    'U'       universal newline mode (deprecated)\n",
      "    ========= ===============================================================\n",
      "    \n",
      "    The default mode is 'rt' (open for reading text). For binary random\n",
      "    access, the mode 'w+b' opens and truncates the file to 0 bytes, while\n",
      "    'r+b' opens the file without truncation. The 'x' mode implies 'w' and\n",
      "    raises an `FileExistsError` if the file already exists.\n",
      "    \n",
      "    Python distinguishes between files opened in binary and text modes,\n",
      "    even when the underlying operating system doesn't. Files opened in\n",
      "    binary mode (appending 'b' to the mode argument) return contents as\n",
      "    bytes objects without any decoding. In text mode (the default, or when\n",
      "    't' is appended to the mode argument), the contents of the file are\n",
      "    returned as strings, the bytes having been first decoded using a\n",
      "    platform-dependent encoding or using the specified encoding if given.\n",
      "    \n",
      "    'U' mode is deprecated and will raise an exception in future versions\n",
      "    of Python.  It has no effect in Python 3.  Use newline to control\n",
      "    universal newlines mode.\n",
      "    \n",
      "    buffering is an optional integer used to set the buffering policy.\n",
      "    Pass 0 to switch buffering off (only allowed in binary mode), 1 to select\n",
      "    line buffering (only usable in text mode), and an integer > 1 to indicate\n",
      "    the size of a fixed-size chunk buffer.  When no buffering argument is\n",
      "    given, the default buffering policy works as follows:\n",
      "    \n",
      "    * Binary files are buffered in fixed-size chunks; the size of the buffer\n",
      "      is chosen using a heuristic trying to determine the underlying device's\n",
      "      \"block size\" and falling back on `io.DEFAULT_BUFFER_SIZE`.\n",
      "      On many systems, the buffer will typically be 4096 or 8192 bytes long.\n",
      "    \n",
      "    * \"Interactive\" text files (files for which isatty() returns True)\n",
      "      use line buffering.  Other text files use the policy described above\n",
      "      for binary files.\n",
      "    \n",
      "    encoding is the name of the encoding used to decode or encode the\n",
      "    file. This should only be used in text mode. The default encoding is\n",
      "    platform dependent, but any encoding supported by Python can be\n",
      "    passed.  See the codecs module for the list of supported encodings.\n",
      "    \n",
      "    errors is an optional string that specifies how encoding errors are to\n",
      "    be handled---this argument should not be used in binary mode. Pass\n",
      "    'strict' to raise a ValueError exception if there is an encoding error\n",
      "    (the default of None has the same effect), or pass 'ignore' to ignore\n",
      "    errors. (Note that ignoring encoding errors can lead to data loss.)\n",
      "    See the documentation for codecs.register or run 'help(codecs.Codec)'\n",
      "    for a list of the permitted encoding error strings.\n",
      "    \n",
      "    newline controls how universal newlines works (it only applies to text\n",
      "    mode). It can be None, '', '\\n', '\\r', and '\\r\\n'.  It works as\n",
      "    follows:\n",
      "    \n",
      "    * On input, if newline is None, universal newlines mode is\n",
      "      enabled. Lines in the input can end in '\\n', '\\r', or '\\r\\n', and\n",
      "      these are translated into '\\n' before being returned to the\n",
      "      caller. If it is '', universal newline mode is enabled, but line\n",
      "      endings are returned to the caller untranslated. If it has any of\n",
      "      the other legal values, input lines are only terminated by the given\n",
      "      string, and the line ending is returned to the caller untranslated.\n",
      "    \n",
      "    * On output, if newline is None, any '\\n' characters written are\n",
      "      translated to the system default line separator, os.linesep. If\n",
      "      newline is '' or '\\n', no translation takes place. If newline is any\n",
      "      of the other legal values, any '\\n' characters written are translated\n",
      "      to the given string.\n",
      "    \n",
      "    If closefd is False, the underlying file descriptor will be kept open\n",
      "    when the file is closed. This does not work when a file name is given\n",
      "    and must be True in that case.\n",
      "    \n",
      "    A custom opener can be used by passing a callable as *opener*. The\n",
      "    underlying file descriptor for the file object is then obtained by\n",
      "    calling *opener* with (*file*, *flags*). *opener* must return an open\n",
      "    file descriptor (passing os.open as *opener* results in functionality\n",
      "    similar to passing None).\n",
      "    \n",
      "    open() returns a file object whose type depends on the mode, and\n",
      "    through which the standard file operations such as reading and writing\n",
      "    are performed. When open() is used to open a file in a text mode ('w',\n",
      "    'r', 'wt', 'rt', etc.), it returns a TextIOWrapper. When used to open\n",
      "    a file in a binary mode, the returned class varies: in read binary\n",
      "    mode, it returns a BufferedReader; in write binary and append binary\n",
      "    modes, it returns a BufferedWriter, and in read/write mode, it returns\n",
      "    a BufferedRandom.\n",
      "    \n",
      "    It is also possible to use a string or bytearray as a file for both\n",
      "    reading and writing. For strings StringIO can be used like a file\n",
      "    opened in a text mode, and for bytes a BytesIO can be used like a file\n",
      "    opened in a binary mode.\n",
      "\n"
     ]
    }
   ],
   "source": [
    "help(open)"
   ]
  },
  {
   "cell_type": "code",
   "execution_count": 8,
   "metadata": {
    "collapsed": false
   },
   "outputs": [
    {
     "name": "stdout",
     "output_type": "stream",
     "text": [
      "<_io.TextIOWrapper name='qm_files/drop_0375_0qm_0mm.out' mode='r' encoding='UTF-8'>\n"
     ]
    }
   ],
   "source": [
    "handle = open(filename)\n",
    "print(handle)"
   ]
  },
  {
   "cell_type": "code",
   "execution_count": 9,
   "metadata": {
    "collapsed": false
   },
   "outputs": [
    {
     "name": "stdout",
     "output_type": "stream",
     "text": [
      "<class '_io.TextIOWrapper'>\n"
     ]
    }
   ],
   "source": [
    "print(type(handle))"
   ]
  },
  {
   "cell_type": "markdown",
   "metadata": {},
   "source": [
    "These will say something slightly different in Python 2 vs. 3, but we work with them in exactly the same way. Here are all the methods that are defined on the handle to our file."
   ]
  },
  {
   "cell_type": "code",
   "execution_count": 10,
   "metadata": {
    "collapsed": false,
    "scrolled": true
   },
   "outputs": [
    {
     "data": {
      "text/plain": [
       "['_CHUNK_SIZE',\n",
       " '__class__',\n",
       " '__del__',\n",
       " '__delattr__',\n",
       " '__dict__',\n",
       " '__dir__',\n",
       " '__doc__',\n",
       " '__enter__',\n",
       " '__eq__',\n",
       " '__exit__',\n",
       " '__format__',\n",
       " '__ge__',\n",
       " '__getattribute__',\n",
       " '__getstate__',\n",
       " '__gt__',\n",
       " '__hash__',\n",
       " '__init__',\n",
       " '__iter__',\n",
       " '__le__',\n",
       " '__lt__',\n",
       " '__ne__',\n",
       " '__new__',\n",
       " '__next__',\n",
       " '__reduce__',\n",
       " '__reduce_ex__',\n",
       " '__repr__',\n",
       " '__setattr__',\n",
       " '__sizeof__',\n",
       " '__str__',\n",
       " '__subclasshook__',\n",
       " '_checkClosed',\n",
       " '_checkReadable',\n",
       " '_checkSeekable',\n",
       " '_checkWritable',\n",
       " '_finalizing',\n",
       " 'buffer',\n",
       " 'close',\n",
       " 'closed',\n",
       " 'detach',\n",
       " 'encoding',\n",
       " 'errors',\n",
       " 'fileno',\n",
       " 'flush',\n",
       " 'isatty',\n",
       " 'line_buffering',\n",
       " 'mode',\n",
       " 'name',\n",
       " 'newlines',\n",
       " 'read',\n",
       " 'readable',\n",
       " 'readline',\n",
       " 'readlines',\n",
       " 'seek',\n",
       " 'seekable',\n",
       " 'tell',\n",
       " 'truncate',\n",
       " 'writable',\n",
       " 'write',\n",
       " 'writelines']"
      ]
     },
     "execution_count": 10,
     "metadata": {},
     "output_type": "execute_result"
    }
   ],
   "source": [
    "dir(handle)"
   ]
  },
  {
   "cell_type": "markdown",
   "metadata": {},
   "source": [
    "This list of strings represents all the methods or member variables that can be called on the handle.\n",
    "\n",
    "If our file handle is called `handle`, and we see `name` is a member of that list, we want to know what it does."
   ]
  },
  {
   "cell_type": "code",
   "execution_count": 11,
   "metadata": {
    "collapsed": false
   },
   "outputs": [
    {
     "name": "stdout",
     "output_type": "stream",
     "text": [
      "no Python documentation found for 'qm_files/drop_0375_0qm_0mm.out'\n",
      "\n"
     ]
    }
   ],
   "source": [
    "help(handle.name)"
   ]
  },
  {
   "cell_type": "code",
   "execution_count": 12,
   "metadata": {
    "collapsed": false
   },
   "outputs": [
    {
     "data": {
      "text/plain": [
       "str"
      ]
     },
     "execution_count": 12,
     "metadata": {},
     "output_type": "execute_result"
    }
   ],
   "source": [
    "type(handle.name)"
   ]
  },
  {
   "cell_type": "code",
   "execution_count": 13,
   "metadata": {
    "collapsed": false
   },
   "outputs": [
    {
     "data": {
      "text/plain": [
       "'qm_files/drop_0375_0qm_0mm.out'"
      ]
     },
     "execution_count": 13,
     "metadata": {},
     "output_type": "execute_result"
    }
   ],
   "source": [
    "handle.name"
   ]
  },
  {
   "cell_type": "code",
   "execution_count": 14,
   "metadata": {
    "collapsed": false
   },
   "outputs": [
    {
     "ename": "TypeError",
     "evalue": "'str' object is not callable",
     "output_type": "error",
     "traceback": [
      "\u001b[1;31m---------------------------------------------------------------------------\u001b[0m",
      "\u001b[1;31mTypeError\u001b[0m                                 Traceback (most recent call last)",
      "\u001b[1;32m<ipython-input-14-ea90735ffa6e>\u001b[0m in \u001b[0;36m<module>\u001b[1;34m()\u001b[0m\n\u001b[1;32m----> 1\u001b[1;33m \u001b[0mhandle\u001b[0m\u001b[1;33m.\u001b[0m\u001b[0mname\u001b[0m\u001b[1;33m(\u001b[0m\u001b[1;33m)\u001b[0m\u001b[1;33m\u001b[0m\u001b[0m\n\u001b[0m",
      "\u001b[1;31mTypeError\u001b[0m: 'str' object is not callable"
     ]
    }
   ],
   "source": [
    "handle.name()"
   ]
  },
  {
   "cell_type": "markdown",
   "metadata": {},
   "source": [
    "So, through a little experimentation, we've figured out that it isn't a function, it's a variable. If it was a function, we'd be able to call it like above.\n",
    "\n",
    "You're probably wondering what all the names that begin with `__` or `_` are. These are methods or member variables that aren't meant to be used directly by the user; they're for \"under-the-hood\" operations only. Let's look only at the parts of `handle` we're supposed to use."
   ]
  },
  {
   "cell_type": "code",
   "execution_count": 15,
   "metadata": {
    "collapsed": false
   },
   "outputs": [
    {
     "name": "stdout",
     "output_type": "stream",
     "text": [
      "['buffer', 'close', 'closed', 'detach', 'encoding', 'errors', 'fileno', 'flush', 'isatty', 'line_buffering', 'mode', 'name', 'newlines', 'read', 'readable', 'readline', 'readlines', 'seek', 'seekable', 'tell', 'truncate', 'writable', 'write', 'writelines']\n"
     ]
    }
   ],
   "source": [
    "print([m for m in dir(handle) if m[0] != '_'])"
   ]
  },
  {
   "cell_type": "markdown",
   "metadata": {},
   "source": [
    "We can look at the type of all these too:"
   ]
  },
  {
   "cell_type": "code",
   "execution_count": 16,
   "metadata": {
    "collapsed": false
   },
   "outputs": [
    {
     "name": "stdout",
     "output_type": "stream",
     "text": [
      "buffer <class '_io.BufferedReader'>\n",
      "close <class 'builtin_function_or_method'>\n",
      "closed <class 'bool'>\n",
      "detach <class 'builtin_function_or_method'>\n",
      "encoding <class 'str'>\n",
      "errors <class 'str'>\n",
      "fileno <class 'builtin_function_or_method'>\n",
      "flush <class 'builtin_function_or_method'>\n",
      "isatty <class 'builtin_function_or_method'>\n",
      "line_buffering <class 'bool'>\n",
      "mode <class 'str'>\n",
      "name <class 'str'>\n",
      "newlines <class 'NoneType'>\n",
      "read <class 'builtin_function_or_method'>\n",
      "readable <class 'builtin_function_or_method'>\n",
      "readline <class 'builtin_function_or_method'>\n",
      "readlines <class 'builtin_function_or_method'>\n",
      "seek <class 'builtin_function_or_method'>\n",
      "seekable <class 'builtin_function_or_method'>\n",
      "tell <class 'builtin_function_or_method'>\n",
      "truncate <class 'builtin_function_or_method'>\n",
      "writable <class 'builtin_function_or_method'>\n",
      "write <class 'builtin_function_or_method'>\n",
      "writelines <class 'builtin_function_or_method'>\n"
     ]
    }
   ],
   "source": [
    "for m in dir(handle):\n",
    "    if m[0] != '_':\n",
    "        print(m, type(eval(\"handle.{}\".format(m))))"
   ]
  },
  {
   "cell_type": "markdown",
   "metadata": {},
   "source": [
    "Since we're interested in reading from a file, there are a few methods that sound like they can read."
   ]
  },
  {
   "cell_type": "code",
   "execution_count": 17,
   "metadata": {
    "collapsed": false
   },
   "outputs": [
    {
     "name": "stdout",
     "output_type": "stream",
     "text": [
      "Help on built-in function readable:\n",
      "\n",
      "readable(...) method of _io.TextIOWrapper instance\n",
      "\n"
     ]
    }
   ],
   "source": [
    "help(handle.readable)"
   ]
  },
  {
   "cell_type": "code",
   "execution_count": 18,
   "metadata": {
    "collapsed": false
   },
   "outputs": [
    {
     "data": {
      "text/plain": [
       "True"
      ]
     },
     "execution_count": 18,
     "metadata": {},
     "output_type": "execute_result"
    }
   ],
   "source": [
    "handle.readable()"
   ]
  },
  {
   "cell_type": "markdown",
   "metadata": {},
   "source": [
    "We can read from the file. I should hope so, we just opened it!"
   ]
  },
  {
   "cell_type": "code",
   "execution_count": 19,
   "metadata": {
    "collapsed": false
   },
   "outputs": [
    {
     "name": "stdout",
     "output_type": "stream",
     "text": [
      "Help on built-in function read:\n",
      "\n",
      "read(...) method of _io.TextIOWrapper instance\n",
      "\n"
     ]
    }
   ],
   "source": [
    "help(handle.read)"
   ]
  },
  {
   "cell_type": "markdown",
   "metadata": {},
   "source": [
    "Well that isn't very helpful...let's look at the official documentation."
   ]
  },
  {
   "cell_type": "code",
   "execution_count": 20,
   "metadata": {
    "collapsed": true
   },
   "outputs": [],
   "source": [
    "# This will let us do some neat stuff with the notebook, like embed webpages and videos.\n",
    "import IPython"
   ]
  },
  {
   "cell_type": "code",
   "execution_count": 21,
   "metadata": {
    "collapsed": false,
    "scrolled": true
   },
   "outputs": [
    {
     "data": {
      "text/html": [
       "\n",
       "        <iframe\n",
       "            width=\"800\"\n",
       "            height=\"800\"\n",
       "            src=\"https://docs.python.org/3.5/tutorial/inputoutput.html#reading-and-writing-files\"\n",
       "            frameborder=\"0\"\n",
       "            allowfullscreen\n",
       "        ></iframe>\n",
       "        "
      ],
      "text/plain": [
       "<IPython.lib.display.IFrame at 0x7f0e643fa160>"
      ]
     },
     "execution_count": 21,
     "metadata": {},
     "output_type": "execute_result"
    }
   ],
   "source": [
    "website = \"https://docs.python.org/3.5/tutorial/inputoutput.html#reading-and-writing-files\"\n",
    "IPython.lib.display.IFrame(website, width=800, height=800)"
   ]
  },
  {
   "cell_type": "markdown",
   "metadata": {},
   "source": [
    "After a bit of light reading, it looks like we can do `contents = handle.read()` and `contents` will be a giant string that contains all of the file contents. Only one way to find out..."
   ]
  },
  {
   "cell_type": "code",
   "execution_count": 22,
   "metadata": {
    "collapsed": true
   },
   "outputs": [],
   "source": [
    "contents = handle.read()"
   ]
  },
  {
   "cell_type": "code",
   "execution_count": 23,
   "metadata": {
    "collapsed": false,
    "scrolled": true
   },
   "outputs": [
    {
     "name": "stdout",
     "output_type": "stream",
     "text": [
      "                  Welcome to Q-Chem\n",
      "     A Quantum Leap Into The Future Of Chemistry\n",
      "\n",
      "\n",
      " Q-Chem 4.3 (beta), Q-Chem, Inc., Pleasanton, CA (2015)\n",
      "\n",
      " Y. Shao,  Z. Gan,  E. Epifanovsky,  A. T. B. Gilbert,  M. Wormit,  \n",
      " J. Kussmann,  A. W. Lange,  A. Behn,  J. Deng,  X. Feng,  D. Ghosh,  \n",
      " M. Goldey,  P. R. Horn,  L. D. Jacobson,  I. Kaliman,  R. Z. Khaliullin,  \n",
      " T. Kus,  A. Landau,  J. Liu,  E. I. Proynov,  Y. M. Rhee,  R. M. Richard,  \n",
      " M. A. Rohrdanz,  R. P. Steele,  E. J. Sundstrom,  H. L. Woodcock III,  \n",
      " P. M. Zimmerman,  D. Zuev,  B. Albrecht,  E. Alguire,  B. Austin,  \n",
      " S. A. Baeppler,  G. J. O. Beran,  Y. A. Bernard,  E. Berquist,  \n",
      " K. Brandhorst,  K. B. Bravaya,  S. T. Brown,  D. Casanova,  C.-M. Chang,  \n",
      " Y. Chen,  S. H. Chien,  K. D. Closser,  D. L. Crittenden,  M. Diedenhofen,  \n",
      " R. A. DiStasio Jr.,  H. Do,  A. D. Dutoi,  R. G. Edgar,  P.-T. Fang,  \n",
      " S. Fatehi,  Q. Feng,  L. Fusti-Molnar,  A. Ghysels,  \n",
      " A. Golubeva-Zadorozhnaya,  J. Gomes,  A. Gunina,  M. W. D. Hanson-Heine,  \n",
      " P. H. P. Harbach,  A. W. Hauser,  E. G. Hohenstein,  Z. C. Holden,  K. Hui,  \n",
      " T.-C. Jagau,  H. Ji,  B. Kaduk,  K. Khistyaev,  Jaehoon Kim,  Jihan Kim,  \n",
      " R. A. King,  P. Klunzinger,  D. Kosenkov,  T. Kowalczyk,  C. M. Krauter,  \n",
      " K. U. Lao,  A. Laurent,  K. V. Lawler,  S. Lehtola,  S. V. Levchenko,  \n",
      " C. Y. Lin,  Y.-S. Lin,  F. Liu,  E. Livshits,  R. C. Lochan,  A. Luenser,  \n",
      " P. Manohar,  S. F. Manzer,  S.-P. Mao,  N. Mardirossian,  A. V. Marenich,  \n",
      " L. A. Martinez-Martinez,  S. A. Maurer,  N. J. Mayhall,  K. Nanda,  \n",
      " C. M. Oana,  R. Olivares-Amaya,  D. P. O'Neill,  J. A. Parkhill,  \n",
      " T. M. Perrine,  R. Peverati,  P. A. Pieniazek,  F. Plasser,  A. Prociuk,  \n",
      " D. R. Rehn,  E. Rosta,  N. J. Russ,  N. Sergueev,  S. M. Sharada,  \n",
      " S. Sharma,  D. W. Small,  A. Sodt,  T. Stauch,  T. Stein,  D. Stuck,  \n",
      " Y.-C. Su,  A. J. W. Thom,  T. Tsuchimochi,  L. Vogt,  O. Vydrov,  T. Wang,  \n",
      " M. A. Watson,  J. Wenzel,  A. White,  C. F. Williams,  V. Vanovschi,  \n",
      " S. Yeganeh,  S. R. Yost,  Z.-Q. You,  I. Y. Zhang,  X. Zhang,  Y. Zhao,  \n",
      " B. R. Brooks,  G. K. L. Chan,  D. M. Chipman,  C. J. Cramer,  \n",
      " W. A. Goddard III,  M. S. Gordon,  W. J. Hehre,  A. Klamt,  \n",
      " H. F. Schaefer III,  M. W. Schmidt,  C. D. Sherrill,  D. G. Truhlar,  \n",
      " A. Warshel,  X. Xu,  A. Aspuru-Guzik,  R. Baer,  A. T. Bell,  N. A. Besley,  \n",
      " J.-D. Chai,  A. Dreuw,  B. D. Dunietz,  T. R. Furlani,  S. R. Gwaltney,  \n",
      " C.-P. Hsu,  Y. Jung,  J. Kong,  D. S. Lambrecht,  W. Liang,  C. Ochsenfeld,  \n",
      " V. A. Rassolov,  L. V. Slipchenko,  J. E. Subotnik,  T. Van Voorhis,  \n",
      " J. M. Herbert,  A. I. Krylov,  P. M. W. Gill,  M. Head-Gordon\n",
      "\n",
      " Contributors to earlier versions of Q-Chem not listed above: \n",
      " R. D. Adamson,  J. Baker,  E. F. C. Byrd,  A. K. Chakraborty,  C.-L. Cheng,  \n",
      " H. Dachsel,  R. J. Doerksen,  G. Hawkins,  A. Heyden,  S. Hirata,  \n",
      " G. Kedziora,  F. J. Keil,  C. Kelley,  P. P. Korambath,  W. Kurlancheek,  \n",
      " A. M. Lee,  M. S. Lee,  D. Liotard,  I. Lotan,  P. E. Maslen,  N. Nair,  \n",
      " D. Neuhauser,  R. Olson,  B. Peters,  J. Ritchie,  N. E. Schultz,  \n",
      " N. Shenvi,  A. C. Simmonett,  K. S. Thanthiriwatte,  Q. Wu,  W. Zhang\n",
      "\n",
      " Please cite Q-Chem as follows:\n",
      " Y. Shao et al., Mol. Phys. 113, 184-215 (2014)\n",
      " DOI: 10.1080/00268976.2014.952696\n",
      "\n",
      " Q-Chem 4.3.0 for Intel X86 EM64T Linux\n",
      "\n",
      " Parts of Q-Chem use Armadillo 4.550.3 (Singapore Sling Deluxe).\n",
      " http://arma.sourceforge.net/\n",
      "\n",
      " Q-Chem begins on Tue May 26 01:32:26 2015  \n",
      "\n",
      "Host: copper\n",
      "0\n",
      "\n",
      "     Scratch files written to /media/Backup/qchem3611//\n",
      " Mar1115 |home|eric|opt|apps|qchem|trunk_RNUM -1\n",
      "Processing $rem in /home/eric/.qchemrc.\n",
      "         symmetry = false\n",
      "       sym_ignore = true\n",
      "      cc_symmetry = false\n",
      "  scf_convergence = 8\n",
      "           thresh = 14\n",
      "        varthresh = 0\n",
      "           incdft = 0\n",
      "          xc_grid = 000100000302 ! (100,302)\n",
      " integrals_buffer = 3000\n",
      "       mem_static = 1000\n",
      "        mem_total = 4000\n",
      "        cc_memory = 4000\n",
      "       ao2mo_disk = 4000\n",
      "    n_frozen_core = fc\n",
      "    molden_format = true\n",
      "   scf_print_frgm = true\n",
      "           chelpg = true\n",
      "\n",
      "Checking the input file for inconsistencies...\t...done.\n",
      "\n",
      "--------------------------------------------------------------\n",
      "User input:\n",
      "--------------------------------------------------------------\n",
      "$molecule\n",
      "0 1\n",
      "C      0.0000000    0.0000000    0.0000000\n",
      "O     -0.8361998    0.6690202    0.4378004\n",
      "O      0.7377005   -0.7639198   -0.4848003\n",
      "$end\n",
      "\n",
      "$external_charges\n",
      "$end\n",
      "\n",
      "$rem\n",
      " jobtype = freq\n",
      " method = b3lyp\n",
      " basis = 6-31g**\n",
      " chelpg = false\n",
      " molden_format = false\n",
      "$end\n",
      "\n",
      "--------------------------------------------------------------\n",
      " ----------------------------------------------------------------\n",
      "             Standard Nuclear Orientation (Angstroms)\n",
      "    I     Atom           X                Y                Z\n",
      " ----------------------------------------------------------------\n",
      "    1      C       0.0000000000     0.0000000000     0.0000000000\n",
      "    2      O      -0.8361998000     0.6690202000     0.4378004000\n",
      "    3      O       0.7377005000    -0.7639198000    -0.4848003000\n",
      " ----------------------------------------------------------------\n",
      " Nuclear Repulsion Energy =    58.3123843069 hartrees\n",
      " There are       11 alpha and       11 beta electrons\n",
      " Requested basis set is 6-31G(d,p)\n",
      " There are 12 shells and 45 basis functions\n",
      "\n",
      "Total QAlloc Memory Limit   4000 MB\n",
      "Mega-Array Size       994 MB\n",
      "MEM_STATIC part      1000 MB\n",
      "\n",
      "                       Distance Matrix (Angstroms)\n",
      "             C (  1)   O (  2)\n",
      "   O (  2)  1.156930\n",
      "   O (  3)  1.167393  2.319843\n",
      " \n",
      " A cutoff of  1.0D-14 yielded     77 shell pairs\n",
      " There are      1115 function pairs\n",
      " \n",
      " -------------------------------------------------------\n",
      " OpenMP Integral Computing Module                       \n",
      " Release: version 1.0, May 2013, Q-Chem Inc. Pittsburgh \n",
      " -------------------------------------------------------\n",
      " Integral Job Info:\n",
      " Integral job number is                      11\n",
      " Integral operator is                         1\n",
      " short-range coefficients               -999999\n",
      " long-range coefficients                -999999\n",
      " Omega coefficients                           0\n",
      " if combine SR and LR in K              -999999\n",
      " Integral screening is                        0\n",
      " Integral computing path is                   2\n",
      " max size of driver memory is            800000\n",
      " size of driver memory is                593474\n",
      " size of scratch memory is              2260544\n",
      " max col of scratch BK array               1296\n",
      " max len of scratch array in speh3          155\n",
      " max len of scratch index in speh4           18\n",
      " max int batch size is                      520\n",
      " min int batch size is                       52\n",
      " fixed nKL is                                52\n",
      " max L of basis functions is                  2\n",
      " order of int derivative is                   0\n",
      " number of shells is                         12\n",
      " number of basis is                          45\n",
      " number of cartesian basis is                45\n",
      " number of contracted shell pairs            77\n",
      " number of primitive shell pairs            489\n",
      " maxK2 (contraction) of shell pair           36\n",
      " max number of K2 of shell pair               1\n",
      " max number of CS2 of shell pair             11\n",
      " max number of PS2 of shell pair            108\n",
      " mem total for path MDJ                   12910\n",
      " -------------------------------------------------------\n",
      " Smallest overlap matrix eigenvalue = 2.91E-03\n",
      " Guess from superposition of atomic densities\n",
      " Warning:  Energy on first SCF cycle will be non-variational\n",
      " A restricted hybrid HF-DFT SCF calculation will be\n",
      " performed using Pulay DIIS extrapolation\n",
      " Exchange:     0.2000 Hartree-Fock + 0.0800 Slater + 0.7200 Becke88\n",
      " Correlation:  0.8100 LYP + 0.1900 VWN1RPA\n",
      " Using Euler-Maclaurin-Lebedev (100,302) quadrature formula\n",
      " SCF converges when DIIS error is below 1.0E-08\n",
      " CPU 0.00 s  wall 0.00 s\n",
      " CPU 0.22 s  wall 0.22 s\n",
      "\n",
      " Total DFTman time = 0.22 CPUs 0.22 Wall\n",
      " ---------------------------------------\n",
      "  Cycle       Energy         DIIS Error\n",
      " ---------------------------------------\n",
      "    1    -189.1154962325      1.28E-01\n",
      " CPU 0.00 s  wall 0.00 s\n",
      " CPU 0.24 s  wall 0.24 s\n",
      "\n",
      " Total DFTman time = 0.24 CPUs 0.24 Wall\n",
      "    2    -188.4993475650      2.09E-02\n",
      " CPU 0.00 s  wall 0.00 s\n",
      " CPU 0.24 s  wall 0.24 s\n",
      "\n",
      " Total DFTman time = 0.24 CPUs 0.24 Wall\n",
      "    3    -188.3404425374      3.66E-02\n",
      " CPU 0.00 s  wall 0.00 s\n",
      " CPU 0.24 s  wall 0.24 s\n",
      "\n",
      " Total DFTman time = 0.24 CPUs 0.24 Wall\n",
      "    4    -188.5791308470      9.56E-04\n",
      " CPU 0.00 s  wall 0.00 s\n",
      " CPU 0.24 s  wall 0.24 s\n",
      "\n",
      " Total DFTman time = 0.24 CPUs 0.24 Wall\n",
      "    5    -188.5791543119      9.36E-04\n",
      " CPU 0.00 s  wall 0.00 s\n",
      " CPU 0.24 s  wall 0.25 s\n",
      "\n",
      " Total DFTman time = 0.24 CPUs 0.25 Wall\n",
      "    6    -188.5792981965      3.71E-04\n",
      " CPU 0.00 s  wall 0.00 s\n",
      " CPU 0.24 s  wall 0.24 s\n",
      "\n",
      " Total DFTman time = 0.24 CPUs 0.24 Wall\n",
      "    7    -188.5793253204      2.42E-05\n",
      " CPU 0.00 s  wall 0.00 s\n",
      " CPU 0.24 s  wall 0.24 s\n",
      "\n",
      " Total DFTman time = 0.24 CPUs 0.24 Wall\n",
      "    8    -188.5793254162      3.23E-06\n",
      " CPU 0.00 s  wall 0.00 s\n",
      " CPU 0.25 s  wall 0.24 s\n",
      "\n",
      " Total DFTman time = 0.25 CPUs 0.24 Wall\n",
      "    9    -188.5793254182      1.09E-07\n",
      " CPU 0.00 s  wall 0.00 s\n",
      " CPU 0.24 s  wall 0.24 s\n",
      "\n",
      " Total DFTman time = 0.24 CPUs 0.24 Wall\n",
      "   10    -188.5793254182      3.56E-08\n",
      " CPU 0.00 s  wall 0.00 s\n",
      " CPU 0.24 s  wall 0.24 s\n",
      "\n",
      " Total DFTman time = 0.24 CPUs 0.24 Wall\n",
      "   11    -188.5793254182      2.59E-09 Convergence criterion met\n",
      " ---------------------------------------\n",
      " SCF time:  CPU 2.83 s  wall 2.83 s\n",
      " SCF   energy in the final basis set = -188.5793254182\n",
      " Total energy in the final basis set = -188.5793254182\n",
      " Analysis of SCF Wavefunction\n",
      " \n",
      " --------------------------------------------------------------\n",
      " \n",
      "                    Orbital Energies (a.u.)\n",
      " --------------------------------------------------------------\n",
      " \n",
      " Alpha MOs\n",
      " -- Occupied --\n",
      "-19.236 -19.234 -10.383  -1.165  -1.122  -0.561  -0.517  -0.515\n",
      " -0.515  -0.370  -0.370\n",
      " -- Virtual --\n",
      "  0.020   0.035   0.105   0.365   0.471   0.472   0.590   0.740\n",
      "  0.782   0.875   0.877   1.040   1.040   1.042   1.385   1.392\n",
      "  1.393   1.412   1.429   1.726   1.726   1.819   2.020   2.021\n",
      "  2.141   2.148   2.753   2.917   2.961   2.970   3.062   3.755\n",
      "  4.394   4.429\n",
      " --------------------------------------------------------------\n",
      " \n",
      "          Ground-State Mulliken Net Atomic Charges\n",
      "\n",
      "     Atom                 Charge (a.u.)\n",
      "  ----------------------------------------\n",
      "      1 C                     0.714405\n",
      "      2 O                    -0.352207\n",
      "      3 O                    -0.362198\n",
      "  ----------------------------------------\n",
      "  Sum of atomic charges =     0.000000\n",
      "\n",
      " -----------------------------------------------------------------\n",
      "                    Cartesian Multipole Moments\n",
      " -----------------------------------------------------------------\n",
      "    Charge (ESU x 10^10)\n",
      "                 0.0000\n",
      "    Dipole Moment (Debye)\n",
      "         X       0.0962      Y       0.1470      Z       0.0767\n",
      "       Tot       0.1917\n",
      "    Quadrupole Moments (Debye-Ang)\n",
      "        XX     -16.4748     XY       1.8690     YY     -16.1241\n",
      "        XZ       1.2035     YZ      -1.0972     ZZ     -15.1260\n",
      "    Octopole Moments (Debye-Ang^2)\n",
      "       XXX       1.5072    XXY       0.4784    XYY       0.4427\n",
      "       YYY       1.5836    XXZ       0.2324    XYZ      -0.0153\n",
      "       YYZ       0.2965    XZZ       0.4654    YZZ       0.5293\n",
      "       ZZZ       0.7735\n",
      "    Hexadecapole Moments (Debye-Ang^3)\n",
      "      XXXX     -50.7101   XXXY      18.5130   XXYY     -16.0469\n",
      "      XYYY      18.4257   YYYY     -43.7461   XXXZ      11.9281\n",
      "      XXYZ      -3.8351   XYYZ       4.1298   YYYZ     -10.8659\n",
      "      XXZZ     -12.5519   XYZZ       6.1750   YYZZ     -11.3791\n",
      "      XZZZ      11.7235   YZZZ     -10.7361   ZZZZ     -24.0657\n",
      " -----------------------------------------------------------------\n",
      " Calculating MO derivatives via CPSCF\n",
      " CPU 0.00 s  wall 0.00 s\n",
      " CPU 1.83 s  wall 1.83 s\n",
      "\n",
      " Total DFTman time = 1.83 CPUs 1.83 Wall\n",
      " CPU 0.00 s  wall 0.00 s\n",
      " CPU 1.55 s  wall 1.55 s\n",
      "\n",
      " Total DFTman time = 1.55 CPUs 1.55 Wall\n",
      " CPU 0.00 s  wall 0.00 s\n",
      " CPU 1.81 s  wall 1.82 s\n",
      "\n",
      " Total DFTman time = 1.81 CPUs 1.82 Wall\n",
      "   1         3           9      0.167052    0.046142\n",
      " CPU 0.00 s  wall 0.00 s\n",
      " CPU 1.82 s  wall 1.82 s\n",
      "\n",
      " Total DFTman time = 1.82 CPUs 1.82 Wall\n",
      "   2         3           9      0.020551    0.005543\n",
      " CPU 0.00 s  wall 0.00 s\n",
      " CPU 1.86 s  wall 1.86 s\n",
      "\n",
      " Total DFTman time = 1.86 CPUs 1.86 Wall\n",
      "   3         3           9      0.001111    0.000255\n",
      " CPU 0.00 s  wall 0.00 s\n",
      " CPU 1.82 s  wall 1.82 s\n",
      "\n",
      " Total DFTman time = 1.82 CPUs 1.82 Wall\n",
      "   4         3           9      0.000063    0.000014\n",
      " CPU 0.00 s  wall 0.00 s\n",
      " CPU 1.82 s  wall 1.82 s\n",
      "\n",
      " Total DFTman time = 1.82 CPUs 1.82 Wall\n",
      "   5        12           0      0.000000    0.000000    Roots Converged\n",
      " CPU 0.00 s  wall 0.00 s\n",
      " CPU 2.29 s  wall 2.29 s\n",
      "\n",
      " Total DFTman time = 2.29 CPUs 2.29 Wall\n",
      " Calculating analytic Hessian of the SCF energy\n",
      " Polarizability Matrix (a.u.)\n",
      "            1           2           3\n",
      "    1 -14.1737885   5.8736715   3.7867806\n",
      "    2   5.8736715 -13.0664354  -3.4819575\n",
      "    3   3.7867806  -3.4819575  -9.8895272\n",
      " CPU 0.00 s  wall 0.00 s\n",
      " CPU 5.54 s  wall 5.54 s\n",
      "\n",
      " Total DFTman time = 5.54 CPUs 5.54 Wall\n",
      " \n",
      " Direct stationary perturbation theory relativistic correction:\n",
      " \n",
      " rels  =       0.068935909736\n",
      " relv  =      -0.274784382948\n",
      " rel2e =       0.090968803792\n",
      " E_rel =      -0.114879669420\n",
      " \n",
      " Hessian of the SCF Energy\n",
      "            1           2           3           4           5           6\n",
      "    1   1.0247744  -0.8068231  -0.5202480  -0.5826944   0.4191537   0.2742436\n",
      "    2  -0.8068231   0.8607577   0.4729366   0.4286992  -0.4016804  -0.2244742\n",
      "    3  -0.5202480   0.4729366   0.4306138   0.2796608  -0.2238104  -0.2051113\n",
      "    4  -0.5826944   0.4286992   0.2796608   0.6023285  -0.4739293  -0.3091596\n",
      "    5   0.4191537  -0.4016804  -0.2238104  -0.4739293   0.4119744   0.2535997\n",
      "    6   0.2742436  -0.2244742  -0.2051113  -0.3091596   0.2535997   0.1885765\n",
      "    7  -0.4420800   0.3781240   0.2405872  -0.0196341   0.0547757   0.0349160\n",
      "    8   0.3876694  -0.4590773  -0.2491262   0.0452302  -0.0102940  -0.0291255\n",
      "    9   0.2460043  -0.2484624  -0.2255025   0.0294988  -0.0297893   0.0165348\n",
      "            7           8           9\n",
      "    1  -0.4420800   0.3876694   0.2460043\n",
      "    2   0.3781240  -0.4590773  -0.2484624\n",
      "    3   0.2405872  -0.2491262  -0.2255025\n",
      "    4  -0.0196341   0.0452302   0.0294988\n",
      "    5   0.0547757  -0.0102940  -0.0297893\n",
      "    6   0.0349160  -0.0291255   0.0165348\n",
      "    7   0.4617141  -0.4328996  -0.2755032\n",
      "    8  -0.4328996   0.4693714   0.2782517\n",
      "    9  -0.2755032   0.2782517   0.2089677\n",
      " Gradient time:  CPU 21.70 s  wall 21.71 s\n",
      " **********************************************************************\n",
      " **                                                                  **\n",
      " **                       VIBRATIONAL ANALYSIS                       **\n",
      " **                       --------------------                       **\n",
      " **                                                                  **\n",
      " **        VIBRATIONAL FREQUENCIES (CM**-1) AND NORMAL MODES         **\n",
      " **     FORCE CONSTANTS (mDYN/ANGSTROM) AND REDUCED MASSES (AMU)     **\n",
      " **                  INFRARED INTENSITIES (KM/MOL)                   **\n",
      " **                                                                  **\n",
      " **********************************************************************\n",
      " \n",
      "\n",
      " Mode:                 1                      2                      3\n",
      " Frequency:       621.29                1410.25                2498.02\n",
      " Force Cnst:      2.9340                18.6957                47.3623\n",
      " Red. Mass:      12.9010                15.9552                12.8822\n",
      " IR Active:          YES                    YES                    YES\n",
      " IR Intens:       30.852                  0.431                554.265\n",
      " Raman Active:       YES                    YES                    YES\n",
      "               X      Y      Z        X      Y      Z        X      Y      Z\n",
      " C          0.644  0.540  0.262   -0.050 -0.077 -0.040    0.601 -0.543 -0.350\n",
      " O         -0.201 -0.241 -0.123    0.495 -0.406 -0.265   -0.254  0.203  0.133\n",
      " O         -0.282 -0.164 -0.073   -0.458  0.463  0.295   -0.198  0.205  0.130\n",
      " TransDip   0.130  0.109  0.053    0.008 -0.017 -0.010    0.512 -0.465 -0.300\n",
      "\n",
      " STANDARD THERMODYNAMIC QUANTITIES AT   298.15 K  AND     1.00 ATM\n",
      "\n",
      "   This Molecule has  0 Imaginary Frequencies\n",
      "   Zero point vibrational energy:        6.475 kcal/mol\n",
      "\n",
      "   Atom    1 Element C  Has Mass   12.00000\n",
      "   Atom    2 Element O  Has Mass   15.99491\n",
      "   Atom    3 Element O  Has Mass   15.99491\n",
      "   Molecular Mass:    43.989820 amu\n",
      "   Principal axes and moments of inertia in amu*Bohr^2:\n",
      "                             1           2           3\n",
      "    Eigenvalues --        0.16210   153.69832   153.86042\n",
      "          X               0.67840     0.73221     0.06038\n",
      "          Y              -0.61774     0.61296    -0.49263\n",
      "          Z              -0.39772     0.29690     0.86814\n",
      "   Rotational Symmetry Number is   1\n",
      "   The Molecule is an Asymmetric Top\n",
      "   Translational Enthalpy:        0.889 kcal/mol\n",
      "   Rotational Enthalpy:           0.889 kcal/mol\n",
      "   Vibrational Enthalpy:          6.573 kcal/mol\n",
      "   gas constant (RT):             0.592 kcal/mol\n",
      "   Translational Entropy:        37.270  cal/mol.K\n",
      "   Rotational Entropy:           16.001  cal/mol.K\n",
      "   Vibrational Entropy:           0.432  cal/mol.K\n",
      "\n",
      "   Total Enthalpy:                8.943 kcal/mol\n",
      "   Total Entropy:                53.703  cal/mol.K\n",
      "Archival summary:\n",
      "1\\1\\copper\\FREQ\\ProcedureUnspecified\\6-31G**\\21\\eric\\TueMay2601:32:512015TueMay2601:32:512015\\0\\\\#,FREQ,ProcedureUnspecified,6-31G**,\\\\0,1\\C\\O,1,1.15693\\O,1,1.16739,2,172.884\\\\\\@\n",
      "\n",
      " Total job time:  24.77s(wall), 24.75s(cpu) \n",
      " Tue May 26 01:32:51 2015\n",
      "\n",
      "        *************************************************************\n",
      "        *                                                           *\n",
      "        *  Thank you very much for using Q-Chem.  Have a nice day.  *\n",
      "        *                                                           *\n",
      "        *************************************************************\n",
      "\n",
      "\n",
      "\n"
     ]
    }
   ],
   "source": [
    "print(contents)"
   ]
  },
  {
   "cell_type": "code",
   "execution_count": 24,
   "metadata": {
    "collapsed": false
   },
   "outputs": [
    {
     "name": "stdout",
     "output_type": "stream",
     "text": [
      "17970\n"
     ]
    }
   ],
   "source": [
    "print(len(contents))"
   ]
  },
  {
   "cell_type": "markdown",
   "metadata": {},
   "source": [
    "Can you see why we don't normally print entire files to the screen? This isn't even a big one.\n",
    "\n",
    "I wonder if the `handle` is still `readable`..."
   ]
  },
  {
   "cell_type": "code",
   "execution_count": 25,
   "metadata": {
    "collapsed": false
   },
   "outputs": [
    {
     "data": {
      "text/plain": [
       "True"
      ]
     },
     "execution_count": 25,
     "metadata": {},
     "output_type": "execute_result"
    }
   ],
   "source": [
    "handle.readable()"
   ]
  },
  {
   "cell_type": "markdown",
   "metadata": {},
   "source": [
    "What if I try and read from it again?"
   ]
  },
  {
   "cell_type": "code",
   "execution_count": 26,
   "metadata": {
    "collapsed": false
   },
   "outputs": [
    {
     "name": "stdout",
     "output_type": "stream",
     "text": [
      "\n"
     ]
    }
   ],
   "source": [
    "contents2 = handle.read()\n",
    "print(contents2)"
   ]
  },
  {
   "cell_type": "markdown",
   "metadata": {},
   "source": [
    "Nothing! So, the end of the file's been reached, and we might as well close it, since we'll be working with `contents`, not the file (handle) itself."
   ]
  },
  {
   "cell_type": "code",
   "execution_count": 27,
   "metadata": {
    "collapsed": false
   },
   "outputs": [
    {
     "data": {
      "text/plain": [
       "True"
      ]
     },
     "execution_count": 27,
     "metadata": {},
     "output_type": "execute_result"
    }
   ],
   "source": [
    "handle.close()\n",
    "handle.closed"
   ]
  },
  {
   "cell_type": "markdown",
   "metadata": {},
   "source": [
    "Just to reiterate, here's what we actually did to open a file, read it into a string, then close it:"
   ]
  },
  {
   "cell_type": "code",
   "execution_count": 28,
   "metadata": {
    "collapsed": true
   },
   "outputs": [],
   "source": [
    "handle = open(filename)\n",
    "contents = handle.read()\n",
    "handle.close()"
   ]
  },
  {
   "cell_type": "markdown",
   "metadata": {},
   "source": [
    "## Opening a file 2"
   ]
  },
  {
   "cell_type": "markdown",
   "metadata": {},
   "source": [
    "There were a few other methods that we could call on our `handle` that had to do with reading, specifically `handle.readline()` and `handle.readlines()`.\n",
    "\n",
    "`readline` will read a single line from an open file handle up until a newline (which is the character `'\\n'`). Basically, every time you see a linebreak or hit return, this invisible character is present."
   ]
  },
  {
   "cell_type": "code",
   "execution_count": 29,
   "metadata": {
    "collapsed": false
   },
   "outputs": [
    {
     "name": "stdout",
     "output_type": "stream",
     "text": [
      "                  Welcome to Q-Chem\n",
      "\n",
      "     A Quantum Leap Into The Future Of Chemistry\n",
      "\n"
     ]
    }
   ],
   "source": [
    "handle = open(filename)\n",
    "\n",
    "first_line = handle.readline()\n",
    "second_line = handle.readline()\n",
    "\n",
    "print(first_line)\n",
    "print(second_line)\n",
    "handle.close()"
   ]
  },
  {
   "cell_type": "markdown",
   "metadata": {},
   "source": [
    "Notice that the newlines are being interpreted and printed. I think this is because of the `print()` function."
   ]
  },
  {
   "cell_type": "code",
   "execution_count": 30,
   "metadata": {
    "collapsed": false
   },
   "outputs": [
    {
     "name": "stdout",
     "output_type": "stream",
     "text": [
      "Help on built-in function print in module builtins:\n",
      "\n",
      "print(...)\n",
      "    print(value, ..., sep=' ', end='\\n', file=sys.stdout, flush=False)\n",
      "    \n",
      "    Prints the values to a stream, or to sys.stdout by default.\n",
      "    Optional keyword arguments:\n",
      "    file:  a file-like object (stream); defaults to the current sys.stdout.\n",
      "    sep:   string inserted between values, default a space.\n",
      "    end:   string appended after the last value, default a newline.\n",
      "    flush: whether to forcibly flush the stream.\n",
      "\n"
     ]
    }
   ],
   "source": [
    "help(print)"
   ]
  },
  {
   "cell_type": "code",
   "execution_count": 31,
   "metadata": {
    "collapsed": false
   },
   "outputs": [
    {
     "name": "stdout",
     "output_type": "stream",
     "text": [
      "                  Welcome to Q-Chem\n",
      "     A Quantum Leap Into The Future Of Chemistry\n"
     ]
    }
   ],
   "source": [
    "print(first_line, end='')\n",
    "print(second_line, end='')"
   ]
  },
  {
   "cell_type": "markdown",
   "metadata": {},
   "source": [
    "`handle.readlines()` does the same thing as `readline()` looped over the entire file, so it returns a list of strings."
   ]
  },
  {
   "cell_type": "code",
   "execution_count": 32,
   "metadata": {
    "collapsed": true
   },
   "outputs": [],
   "source": [
    "handle = open(filename)\n",
    "\n",
    "contents3 = handle.readlines()\n",
    "\n",
    "handle.close()"
   ]
  },
  {
   "cell_type": "code",
   "execution_count": 33,
   "metadata": {
    "collapsed": false
   },
   "outputs": [
    {
     "name": "stdout",
     "output_type": "stream",
     "text": [
      "['                  Welcome to Q-Chem\\n', '     A Quantum Leap Into The Future Of Chemistry\\n', '\\n', '\\n', ' Q-Chem 4.3 (beta), Q-Chem, Inc., Pleasanton, CA (2015)\\n', '\\n', ' Y. Shao,  Z. Gan,  E. Epifanovsky,  A. T. B. Gilbert,  M. Wormit,  \\n', ' J. Kussmann,  A. W. Lange,  A. Behn,  J. Deng,  X. Feng,  D. Ghosh,  \\n', ' M. Goldey,  P. R. Horn,  L. D. Jacobson,  I. Kaliman,  R. Z. Khaliullin,  \\n', ' T. Kus,  A. Landau,  J. Liu,  E. I. Proynov,  Y. M. Rhee,  R. M. Richard,  \\n']\n"
     ]
    }
   ],
   "source": [
    "print(contents3[:10])"
   ]
  },
  {
   "cell_type": "code",
   "execution_count": 34,
   "metadata": {
    "collapsed": false
   },
   "outputs": [
    {
     "data": {
      "text/plain": [
       "['                  Welcome to Q-Chem\\n',\n",
       " '     A Quantum Leap Into The Future Of Chemistry\\n',\n",
       " '\\n',\n",
       " '\\n',\n",
       " ' Q-Chem 4.3 (beta), Q-Chem, Inc., Pleasanton, CA (2015)\\n',\n",
       " '\\n',\n",
       " ' Y. Shao,  Z. Gan,  E. Epifanovsky,  A. T. B. Gilbert,  M. Wormit,  \\n',\n",
       " ' J. Kussmann,  A. W. Lange,  A. Behn,  J. Deng,  X. Feng,  D. Ghosh,  \\n',\n",
       " ' M. Goldey,  P. R. Horn,  L. D. Jacobson,  I. Kaliman,  R. Z. Khaliullin,  \\n',\n",
       " ' T. Kus,  A. Landau,  J. Liu,  E. I. Proynov,  Y. M. Rhee,  R. M. Richard,  \\n']"
      ]
     },
     "execution_count": 34,
     "metadata": {},
     "output_type": "execute_result"
    }
   ],
   "source": [
    "contents3[:10]"
   ]
  },
  {
   "cell_type": "markdown",
   "metadata": {},
   "source": [
    "There's another convenient method for strings that lets us do the same thing to a large string; rather than call `split()`, which will split on spaces, we call `splitlines()`, which will split on newlines."
   ]
  },
  {
   "cell_type": "code",
   "execution_count": 35,
   "metadata": {
    "collapsed": false
   },
   "outputs": [
    {
     "data": {
      "text/plain": [
       "['                  Welcome to Q-Chem',\n",
       " '     A Quantum Leap Into The Future Of Chemistry',\n",
       " '',\n",
       " '',\n",
       " ' Q-Chem 4.3 (beta), Q-Chem, Inc., Pleasanton, CA (2015)',\n",
       " '',\n",
       " ' Y. Shao,  Z. Gan,  E. Epifanovsky,  A. T. B. Gilbert,  M. Wormit,  ',\n",
       " ' J. Kussmann,  A. W. Lange,  A. Behn,  J. Deng,  X. Feng,  D. Ghosh,  ',\n",
       " ' M. Goldey,  P. R. Horn,  L. D. Jacobson,  I. Kaliman,  R. Z. Khaliullin,  ',\n",
       " ' T. Kus,  A. Landau,  J. Liu,  E. I. Proynov,  Y. M. Rhee,  R. M. Richard,  ']"
      ]
     },
     "execution_count": 35,
     "metadata": {},
     "output_type": "execute_result"
    }
   ],
   "source": [
    "contents.splitlines()[:10]"
   ]
  },
  {
   "cell_type": "markdown",
   "metadata": {},
   "source": [
    "Notice that the newlines have been removed in this case. Hopefully that doesn't bite us in the future; it may or may not be important for what we do."
   ]
  },
  {
   "cell_type": "markdown",
   "metadata": {},
   "source": [
    "## Opening a file 3"
   ]
  },
  {
   "cell_type": "markdown",
   "metadata": {},
   "source": [
    "I think I've shown all the ways contents of files can be *read*, but what about the opening and closing? There's an easier way, one where the file will be closed for us automatically."
   ]
  },
  {
   "cell_type": "code",
   "execution_count": 36,
   "metadata": {
    "collapsed": true
   },
   "outputs": [],
   "source": [
    "with open(filename) as handle2:\n",
    "    contents4 = handle2.read()"
   ]
  },
  {
   "cell_type": "code",
   "execution_count": 37,
   "metadata": {
    "collapsed": false
   },
   "outputs": [
    {
     "data": {
      "text/plain": [
       "True"
      ]
     },
     "execution_count": 37,
     "metadata": {},
     "output_type": "execute_result"
    }
   ],
   "source": [
    "handle2.closed"
   ]
  },
  {
   "cell_type": "markdown",
   "metadata": {},
   "source": [
    "This is what we call \"syntactic sugar\", it's something convenient. Using either is fine. I personally prefer doing it this way, because if you open a bunch of files and forget to close them, over and over again, eventually your memory usage will grow and things might get unbearably slow."
   ]
  },
  {
   "cell_type": "markdown",
   "metadata": {},
   "source": [
    "## Looping over a file 1"
   ]
  },
  {
   "cell_type": "markdown",
   "metadata": {},
   "source": [
    "Just like everything else in Python, there are a couple of ways to do this. We can either loop over the contents of the file we've stored in our `contents` variable, or we can loop over the file directly. Yes, file handles are iterable, just like lists and tuples!\n",
    "\n",
    "Here's directly looping over the file:"
   ]
  },
  {
   "cell_type": "code",
   "execution_count": 38,
   "metadata": {
    "collapsed": false
   },
   "outputs": [
    {
     "name": "stdout",
     "output_type": "stream",
     "text": [
      " P. M. Zimmerman,  D. Zuev,  B. Albrecht,  E. Alguire,  B. Austin,  \n",
      "\n",
      " S. A. Baeppler,  G. J. O. Beran,  Y. A. Bernard,  E. Berquist,  \n",
      "\n",
      " C.-P. Hsu,  Y. Jung,  J. Kong,  D. S. Lambrecht,  W. Liang,  C. Ochsenfeld,  \n",
      "\n"
     ]
    }
   ],
   "source": [
    "with open(filename) as handle:\n",
    "    for line in handle:\n",
    "        if 'Albrecht' in line:\n",
    "            print(line)\n",
    "        if 'Berquist' in line:\n",
    "            print(line)\n",
    "        if 'Lambrecht' in line:\n",
    "            print(line)"
   ]
  },
  {
   "cell_type": "markdown",
   "metadata": {},
   "source": [
    "and here's looping over our stored variable:"
   ]
  },
  {
   "cell_type": "code",
   "execution_count": 39,
   "metadata": {
    "collapsed": false,
    "scrolled": true
   },
   "outputs": [
    {
     "name": "stdout",
     "output_type": "stream",
     "text": [
      " Total DFTman time = 0.22 CPUs 0.22 Wall\n",
      " Total DFTman time = 0.24 CPUs 0.24 Wall\n",
      " Total DFTman time = 0.24 CPUs 0.24 Wall\n",
      " Total DFTman time = 0.24 CPUs 0.24 Wall\n",
      " Total DFTman time = 0.24 CPUs 0.24 Wall\n",
      " Total DFTman time = 0.24 CPUs 0.25 Wall\n",
      " Total DFTman time = 0.24 CPUs 0.24 Wall\n",
      " Total DFTman time = 0.24 CPUs 0.24 Wall\n",
      " Total DFTman time = 0.25 CPUs 0.24 Wall\n",
      " Total DFTman time = 0.24 CPUs 0.24 Wall\n",
      " Total DFTman time = 0.24 CPUs 0.24 Wall\n",
      " SCF time:  CPU 2.83 s  wall 2.83 s\n",
      " Total DFTman time = 1.83 CPUs 1.83 Wall\n",
      " Total DFTman time = 1.55 CPUs 1.55 Wall\n",
      " Total DFTman time = 1.81 CPUs 1.82 Wall\n",
      " Total DFTman time = 1.82 CPUs 1.82 Wall\n",
      " Total DFTman time = 1.86 CPUs 1.86 Wall\n",
      " Total DFTman time = 1.82 CPUs 1.82 Wall\n",
      " Total DFTman time = 1.82 CPUs 1.82 Wall\n",
      " Total DFTman time = 2.29 CPUs 2.29 Wall\n",
      " Total DFTman time = 5.54 CPUs 5.54 Wall\n",
      " Gradient time:  CPU 21.70 s  wall 21.71 s\n",
      " Total job time:  24.77s(wall), 24.75s(cpu) \n"
     ]
    }
   ],
   "source": [
    "for line in contents.splitlines():\n",
    "    if 'time' in line:\n",
    "        print(line)"
   ]
  },
  {
   "cell_type": "markdown",
   "metadata": {},
   "source": [
    "Notice that I called `contents.splitlines()`; this way, we make a list of strings, so iterating will give us one string at a time.\n",
    "\n",
    "We can't loop over `contents` directly. Why not?"
   ]
  },
  {
   "cell_type": "code",
   "execution_count": 40,
   "metadata": {
    "collapsed": false,
    "scrolled": true
   },
   "outputs": [
    {
     "name": "stdout",
     "output_type": "stream",
     "text": [
      "u\n",
      ",\n",
      " \n",
      " \n",
      "I\n",
      ".\n",
      " \n",
      "Y\n",
      ".\n",
      " \n",
      "Z\n",
      "h\n",
      "a\n",
      "n\n",
      "g\n",
      ",\n",
      " \n",
      " \n",
      "X\n",
      ".\n",
      " \n",
      "Z\n",
      "h\n",
      "a\n",
      "n\n",
      "g\n",
      ",\n",
      " \n",
      " \n",
      "Y\n",
      ".\n",
      " \n",
      "Z\n",
      "h\n",
      "a\n",
      "o\n",
      ",\n",
      " \n",
      " \n",
      "\n",
      "\n",
      " \n",
      "B\n",
      ".\n",
      " \n",
      "R\n",
      ".\n",
      " \n",
      "B\n",
      "r\n",
      "o\n",
      "o\n",
      "k\n",
      "s\n",
      ",\n",
      " \n",
      " \n",
      "G\n",
      ".\n",
      " \n",
      "K\n",
      ".\n",
      " \n",
      "L\n",
      ".\n",
      " \n",
      "C\n",
      "h\n",
      "a\n",
      "n\n",
      ",\n",
      " \n",
      " \n",
      "D\n",
      ".\n",
      " \n",
      "M\n",
      ".\n",
      " \n",
      "C\n",
      "h\n",
      "i\n",
      "p\n",
      "m\n",
      "a\n",
      "n\n",
      ",\n",
      " \n",
      " \n",
      "C\n",
      ".\n",
      " \n",
      "J\n",
      ".\n",
      " \n",
      "C\n",
      "r\n",
      "a\n",
      "m\n",
      "e\n",
      "r\n",
      ",\n",
      " \n",
      " \n",
      "\n",
      "\n",
      " \n",
      "W\n",
      ".\n",
      " \n",
      "A\n",
      ".\n",
      " \n",
      "G\n",
      "o\n",
      "d\n",
      "d\n",
      "a\n",
      "r\n",
      "d\n",
      " \n",
      "I\n",
      "I\n",
      "I\n",
      ",\n",
      " \n",
      " \n",
      "M\n",
      ".\n",
      " \n",
      "S\n",
      ".\n",
      " \n",
      "G\n",
      "o\n",
      "r\n",
      "d\n",
      "o\n",
      "n\n",
      ",\n",
      " \n",
      " \n",
      "W\n",
      ".\n",
      " \n",
      "J\n",
      ".\n",
      " \n",
      "H\n",
      "e\n",
      "h\n",
      "r\n",
      "e\n",
      ",\n",
      " \n",
      " \n",
      "A\n",
      ".\n",
      " \n",
      "K\n",
      "l\n",
      "a\n",
      "m\n",
      "t\n",
      ",\n",
      " \n",
      " \n",
      "\n",
      "\n",
      " \n",
      "H\n",
      ".\n",
      " \n",
      "F\n",
      ".\n",
      " \n",
      "S\n",
      "c\n",
      "h\n",
      "a\n",
      "e\n",
      "f\n",
      "e\n",
      "r\n",
      " \n",
      "I\n",
      "I\n",
      "I\n",
      ",\n",
      " \n",
      " \n",
      "M\n",
      ".\n",
      " \n",
      "W\n",
      ".\n",
      " \n",
      "S\n",
      "c\n",
      "h\n",
      "m\n",
      "i\n",
      "d\n",
      "t\n",
      ",\n",
      " \n",
      " \n",
      "C\n",
      ".\n",
      " \n",
      "D\n",
      ".\n",
      " \n",
      "S\n",
      "h\n",
      "e\n",
      "r\n",
      "r\n",
      "i\n",
      "l\n",
      "l\n",
      ",\n",
      " \n",
      " \n",
      "D\n",
      ".\n",
      " \n",
      "G\n",
      ".\n",
      " \n",
      "T\n",
      "r\n",
      "u\n",
      "h\n",
      "l\n",
      "a\n",
      "r\n",
      ",\n",
      " \n",
      " \n",
      "\n",
      "\n",
      " \n",
      "A\n",
      ".\n",
      " \n",
      "W\n",
      "a\n",
      "r\n",
      "s\n",
      "h\n",
      "e\n",
      "l\n",
      ",\n",
      " \n",
      " \n",
      "X\n",
      ".\n",
      " \n",
      "X\n",
      "u\n",
      ",\n",
      " \n",
      " \n",
      "A\n",
      ".\n",
      " \n",
      "A\n",
      "s\n",
      "p\n",
      "u\n",
      "r\n",
      "u\n",
      "-\n",
      "G\n",
      "u\n",
      "z\n",
      "i\n",
      "k\n",
      ",\n",
      " \n",
      " \n",
      "R\n",
      ".\n",
      " \n",
      "B\n",
      "a\n",
      "e\n",
      "r\n",
      ",\n",
      " \n",
      " \n",
      "A\n",
      ".\n",
      " \n",
      "T\n",
      ".\n",
      " \n",
      "B\n",
      "e\n",
      "l\n",
      "l\n",
      ",\n",
      " \n",
      " \n",
      "N\n",
      ".\n",
      " \n",
      "A\n",
      ".\n",
      " \n",
      "B\n",
      "e\n",
      "s\n",
      "l\n",
      "e\n",
      "y\n",
      ",\n",
      " \n",
      " \n",
      "\n",
      "\n",
      " \n",
      "J\n",
      ".\n",
      "-\n",
      "D\n",
      ".\n",
      " \n",
      "C\n",
      "h\n",
      "a\n",
      "i\n",
      ",\n",
      " \n",
      " \n",
      "A\n",
      ".\n",
      " \n",
      "D\n",
      "r\n",
      "e\n",
      "u\n",
      "w\n",
      ",\n",
      " \n",
      " \n",
      "B\n",
      ".\n",
      " \n",
      "D\n",
      ".\n",
      " \n",
      "D\n",
      "u\n",
      "n\n",
      "i\n",
      "e\n",
      "t\n",
      "z\n",
      ",\n",
      " \n",
      " \n",
      "T\n",
      ".\n",
      " \n",
      "R\n",
      ".\n",
      " \n",
      "F\n",
      "u\n",
      "r\n",
      "l\n",
      "a\n",
      "n\n",
      "i\n",
      ",\n",
      " \n",
      " \n",
      "S\n",
      ".\n",
      " \n",
      "R\n",
      ".\n",
      " \n",
      "G\n",
      "w\n",
      "a\n",
      "l\n",
      "t\n",
      "n\n",
      "e\n",
      "y\n",
      ",\n",
      " \n",
      " \n",
      "\n",
      "\n",
      " \n",
      "C\n",
      ".\n",
      "-\n",
      "P\n",
      ".\n",
      " \n",
      "H\n",
      "s\n",
      "u\n",
      ",\n",
      " \n",
      " \n",
      "Y\n",
      ".\n",
      " \n",
      "J\n",
      "u\n",
      "n\n",
      "g\n",
      ",\n",
      " \n",
      " \n",
      "J\n",
      ".\n",
      " \n",
      "K\n",
      "o\n",
      "n\n",
      "g\n",
      ",\n",
      " \n",
      " \n",
      "D\n",
      ".\n",
      " \n",
      "S\n",
      ".\n",
      " \n",
      "L\n",
      "a\n",
      "m\n",
      "b\n",
      "r\n",
      "e\n",
      "c\n",
      "h\n",
      "t\n",
      ",\n",
      " \n",
      " \n",
      "W\n",
      ".\n",
      " \n",
      "L\n",
      "i\n",
      "a\n",
      "n\n",
      "g\n",
      ",\n",
      " \n",
      " \n",
      "C\n",
      ".\n",
      " \n",
      "O\n",
      "c\n",
      "h\n",
      "s\n",
      "e\n",
      "n\n",
      "f\n",
      "e\n",
      "l\n",
      "d\n",
      ",\n",
      " \n",
      " \n",
      "\n",
      "\n",
      " \n",
      "V\n",
      ".\n",
      " \n",
      "A\n",
      ".\n",
      " \n",
      "R\n",
      "a\n",
      "s\n",
      "s\n",
      "o\n",
      "l\n",
      "o\n",
      "v\n",
      ",\n",
      " \n",
      " \n",
      "L\n",
      ".\n",
      " \n",
      "V\n",
      ".\n",
      " \n",
      "S\n",
      "l\n",
      "i\n",
      "p\n",
      "c\n"
     ]
    }
   ],
   "source": [
    "for line in contents[2000:2500]:\n",
    "    print(line)"
   ]
  },
  {
   "cell_type": "markdown",
   "metadata": {},
   "source": [
    "`contents` is a *string*; iterating over a string will give you its characters. Clearly this is nonsense. Be careful!"
   ]
  },
  {
   "cell_type": "markdown",
   "metadata": {},
   "source": [
    "## Looping over a file 2"
   ]
  },
  {
   "cell_type": "markdown",
   "metadata": {},
   "source": [
    "## Extracting frequencies"
   ]
  },
  {
   "cell_type": "markdown",
   "metadata": {},
   "source": [
    "Now we can use our file opening/closing/looping knowledge to extract useful information from files.\n",
    "\n",
    "Let's say I want to extract all of the vibrational frequencies from an output file, and store them in a list called `frequencies` as floating-point numbers.\n",
    "\n",
    "The key to extracting information from QM outputs (or any text file, really) is to understand the context in which the information appears. What's the file structured like? How do we actually *get* the information we want?\n",
    "\n",
    "I'll split the contents on newlines to make it easier to work with."
   ]
  },
  {
   "cell_type": "code",
   "execution_count": 41,
   "metadata": {
    "collapsed": true
   },
   "outputs": [],
   "source": [
    "contents_splitlines = contents.splitlines()"
   ]
  },
  {
   "cell_type": "markdown",
   "metadata": {},
   "source": [
    "The information I want occurs near the end."
   ]
  },
  {
   "cell_type": "code",
   "execution_count": 42,
   "metadata": {
    "collapsed": false,
    "scrolled": false
   },
   "outputs": [
    {
     "data": {
      "text/plain": [
       "[' **                                                                  **',\n",
       " ' **                       VIBRATIONAL ANALYSIS                       **',\n",
       " ' **                       --------------------                       **',\n",
       " ' **                                                                  **',\n",
       " ' **        VIBRATIONAL FREQUENCIES (CM**-1) AND NORMAL MODES         **',\n",
       " ' **     FORCE CONSTANTS (mDYN/ANGSTROM) AND REDUCED MASSES (AMU)     **',\n",
       " ' **                  INFRARED INTENSITIES (KM/MOL)                   **',\n",
       " ' **                                                                  **',\n",
       " ' **********************************************************************',\n",
       " ' ',\n",
       " '',\n",
       " ' Mode:                 1                      2                      3',\n",
       " ' Frequency:       621.29                1410.25                2498.02',\n",
       " ' Force Cnst:      2.9340                18.6957                47.3623',\n",
       " ' Red. Mass:      12.9010                15.9552                12.8822',\n",
       " ' IR Active:          YES                    YES                    YES',\n",
       " ' IR Intens:       30.852                  0.431                554.265',\n",
       " ' Raman Active:       YES                    YES                    YES',\n",
       " '               X      Y      Z        X      Y      Z        X      Y      Z',\n",
       " ' C          0.644  0.540  0.262   -0.050 -0.077 -0.040    0.601 -0.543 -0.350',\n",
       " ' O         -0.201 -0.241 -0.123    0.495 -0.406 -0.265   -0.254  0.203  0.133',\n",
       " ' O         -0.282 -0.164 -0.073   -0.458  0.463  0.295   -0.198  0.205  0.130',\n",
       " ' TransDip   0.130  0.109  0.053    0.008 -0.017 -0.010    0.512 -0.465 -0.300',\n",
       " '',\n",
       " ' STANDARD THERMODYNAMIC QUANTITIES AT   298.15 K  AND     1.00 ATM',\n",
       " '',\n",
       " '   This Molecule has  0 Imaginary Frequencies',\n",
       " '   Zero point vibrational energy:        6.475 kcal/mol',\n",
       " '',\n",
       " '   Atom    1 Element C  Has Mass   12.00000',\n",
       " '   Atom    2 Element O  Has Mass   15.99491',\n",
       " '   Atom    3 Element O  Has Mass   15.99491',\n",
       " '   Molecular Mass:    43.989820 amu',\n",
       " '   Principal axes and moments of inertia in amu*Bohr^2:',\n",
       " '                             1           2           3',\n",
       " '    Eigenvalues --        0.16210   153.69832   153.86042',\n",
       " '          X               0.67840     0.73221     0.06038',\n",
       " '          Y              -0.61774     0.61296    -0.49263',\n",
       " '          Z              -0.39772     0.29690     0.86814',\n",
       " '   Rotational Symmetry Number is   1',\n",
       " '   The Molecule is an Asymmetric Top',\n",
       " '   Translational Enthalpy:        0.889 kcal/mol',\n",
       " '   Rotational Enthalpy:           0.889 kcal/mol',\n",
       " '   Vibrational Enthalpy:          6.573 kcal/mol',\n",
       " '   gas constant (RT):             0.592 kcal/mol',\n",
       " '   Translational Entropy:        37.270  cal/mol.K',\n",
       " '   Rotational Entropy:           16.001  cal/mol.K',\n",
       " '   Vibrational Entropy:           0.432  cal/mol.K',\n",
       " '',\n",
       " '   Total Enthalpy:                8.943 kcal/mol',\n",
       " '   Total Entropy:                53.703  cal/mol.K',\n",
       " 'Archival summary:',\n",
       " '1\\\\1\\\\copper\\\\FREQ\\\\ProcedureUnspecified\\\\6-31G**\\\\21\\\\eric\\\\TueMay2601:32:512015TueMay2601:32:512015\\\\0\\\\\\\\#,FREQ,ProcedureUnspecified,6-31G**,\\\\\\\\0,1\\\\C\\\\O,1,1.15693\\\\O,1,1.16739,2,172.884\\\\\\\\\\\\@',\n",
       " '',\n",
       " ' Total job time:  24.77s(wall), 24.75s(cpu) ',\n",
       " ' Tue May 26 01:32:51 2015',\n",
       " '',\n",
       " '        *************************************************************',\n",
       " '        *                                                           *',\n",
       " '        *  Thank you very much for using Q-Chem.  Have a nice day.  *',\n",
       " '        *                                                           *',\n",
       " '        *************************************************************',\n",
       " '',\n",
       " '']"
      ]
     },
     "execution_count": 42,
     "metadata": {},
     "output_type": "execute_result"
    }
   ],
   "source": [
    "contents_splitlines[370:]"
   ]
  },
  {
   "cell_type": "markdown",
   "metadata": {},
   "source": [
    "We can see the frequencies all occur on a single line:\n",
    "\n",
    "```\n",
    "' Frequency:       621.29                1410.25                2498.02',\n",
    "```\n",
    "\n",
    "and maybe we can check for whether `Frequency:` is in a line to get frequencies. First, we need a place to store our results."
   ]
  },
  {
   "cell_type": "markdown",
   "metadata": {},
   "source": [
    "Check all the lines for a match, and print out a match if it exists:"
   ]
  },
  {
   "cell_type": "code",
   "execution_count": 43,
   "metadata": {
    "collapsed": false
   },
   "outputs": [
    {
     "name": "stdout",
     "output_type": "stream",
     "text": [
      " Frequency:       621.29                1410.25                2498.02\n"
     ]
    }
   ],
   "source": [
    "for line in contents_splitlines:\n",
    "    if 'Frequency:' in line:\n",
    "        print(line)"
   ]
  },
  {
   "cell_type": "markdown",
   "metadata": {},
   "source": [
    "It worked! You'll have to take my word for it that if this occurred on multiple lines of an output (say, if there were more than 3 vibrational frequencies), this would catch every instance. That's the beauty of looping.\n",
    "\n",
    "The only problem with the code above is that once we match the line, we don't actually *do* anything with it other than print it. Let's try storing it in a variable `s` so we can manipulate it after our loop is complete."
   ]
  },
  {
   "cell_type": "code",
   "execution_count": 44,
   "metadata": {
    "collapsed": true
   },
   "outputs": [],
   "source": [
    "for line in contents_splitlines:\n",
    "    if 'Frequency:' in line:\n",
    "        s = line"
   ]
  },
  {
   "cell_type": "code",
   "execution_count": 45,
   "metadata": {
    "collapsed": false
   },
   "outputs": [
    {
     "name": "stdout",
     "output_type": "stream",
     "text": [
      " Frequency:       621.29                1410.25                2498.02\n"
     ]
    }
   ],
   "source": [
    "print(s)"
   ]
  },
  {
   "cell_type": "markdown",
   "metadata": {},
   "source": [
    "Now, to make it into a list of floats:"
   ]
  },
  {
   "cell_type": "code",
   "execution_count": 46,
   "metadata": {
    "collapsed": false
   },
   "outputs": [
    {
     "data": {
      "text/plain": [
       "['Frequency:', '621.29', '1410.25', '2498.02']"
      ]
     },
     "execution_count": 46,
     "metadata": {},
     "output_type": "execute_result"
    }
   ],
   "source": [
    "s.split()"
   ]
  },
  {
   "cell_type": "code",
   "execution_count": 47,
   "metadata": {
    "collapsed": false
   },
   "outputs": [
    {
     "data": {
      "text/plain": [
       "['621.29', '1410.25', '2498.02']"
      ]
     },
     "execution_count": 47,
     "metadata": {},
     "output_type": "execute_result"
    }
   ],
   "source": [
    "s.split()[1:]"
   ]
  },
  {
   "cell_type": "code",
   "execution_count": 48,
   "metadata": {
    "collapsed": false
   },
   "outputs": [
    {
     "data": {
      "text/plain": [
       "<map at 0x7f0e64391b38>"
      ]
     },
     "execution_count": 48,
     "metadata": {},
     "output_type": "execute_result"
    }
   ],
   "source": [
    "map(float, s.split()[1:])"
   ]
  },
  {
   "cell_type": "code",
   "execution_count": 49,
   "metadata": {
    "collapsed": false
   },
   "outputs": [
    {
     "data": {
      "text/plain": [
       "[621.29, 1410.25, 2498.02]"
      ]
     },
     "execution_count": 49,
     "metadata": {},
     "output_type": "execute_result"
    }
   ],
   "source": [
    "list(map(float, s.split()[1:]))"
   ]
  },
  {
   "cell_type": "markdown",
   "metadata": {},
   "source": [
    "Ok, now we know how to turn a frequency line into a list of numbers we can work with in some other piece of code.\n",
    "\n",
    "But, now we have *another* problem.\n",
    "\n",
    "What if we have more than one line that contains `Frequency:`? This will only catch the very last one! We need to do all this work *inside* the loop."
   ]
  },
  {
   "cell_type": "code",
   "execution_count": 50,
   "metadata": {
    "collapsed": true
   },
   "outputs": [],
   "source": [
    "frequencies = []\n",
    "\n",
    "for line in contents_splitlines:\n",
    "    if 'Frequency:' in line:\n",
    "        frequencies_oneline = list(map(float, line.split()[1:]))\n",
    "        frequencies.extend(frequencies_oneline)"
   ]
  },
  {
   "cell_type": "code",
   "execution_count": 51,
   "metadata": {
    "collapsed": false
   },
   "outputs": [
    {
     "name": "stdout",
     "output_type": "stream",
     "text": [
      "[621.29, 1410.25, 2498.02]\n"
     ]
    }
   ],
   "source": [
    "print(frequencies)"
   ]
  },
  {
   "cell_type": "markdown",
   "metadata": {},
   "source": [
    "We can't use `list.append()`; that would append a list to a list, so we'd end up with a list-of-lists. We just want a single list, so we `extend()` it."
   ]
  }
 ],
 "metadata": {
  "kernelspec": {
   "display_name": "Python 3",
   "language": "python",
   "name": "python3"
  },
  "language_info": {
   "codemirror_mode": {
    "name": "ipython",
    "version": 3
   },
   "file_extension": ".py",
   "mimetype": "text/x-python",
   "name": "python",
   "nbconvert_exporter": "python",
   "pygments_lexer": "ipython3",
   "version": "3.4.3"
  }
 },
 "nbformat": 4,
 "nbformat_minor": 0
}
