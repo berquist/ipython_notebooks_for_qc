{
 "cells": [
  {
   "cell_type": "markdown",
   "metadata": {},
   "source": [
    "# Reading QM outputs - EDA and COVP calculations"
   ]
  },
  {
   "cell_type": "code",
   "execution_count": 7,
   "metadata": {
    "collapsed": true
   },
   "outputs": [],
   "source": [
    "from __future__ import print_function\n",
    "from __future__ import division"
   ]
  },
  {
   "cell_type": "code",
   "execution_count": 31,
   "metadata": {
    "collapsed": true
   },
   "outputs": [],
   "source": [
    "import numpy as np"
   ]
  },
  {
   "cell_type": "markdown",
   "metadata": {},
   "source": [
    "Normally, one would want a very generalized way of reading in output files (like an `argparse` input argument with `nargs='+'` that gets looped over in a big out, but this is more to demonstrate the parsing of this specific kind of file, so we use "
   ]
  },
  {
   "cell_type": "code",
   "execution_count": 5,
   "metadata": {
    "collapsed": false
   },
   "outputs": [],
   "source": [
    "outputfilepath = \"../qm_files/drop_0001_1qm_2mm_eda_covp.out\""
   ]
  },
  {
   "cell_type": "markdown",
   "metadata": {},
   "source": [
    "Normally, we might also do this, where we read the contents of the entire file in as a string. This might be a bad idea for these files, since they can grow to several megabytes."
   ]
  },
  {
   "cell_type": "code",
   "execution_count": 6,
   "metadata": {
    "collapsed": true
   },
   "outputs": [],
   "source": [
    "# with open(outputfilepath) as outputfile:\n",
    "#     raw_contents = outputfile.read()"
   ]
  },
  {
   "cell_type": "markdown",
   "metadata": {},
   "source": [
    "It's more efficient to loop over the file directly, which avoids having to read the whole thing into memory. This does mean that you can't open and close it right away; you add another level of indentation."
   ]
  },
  {
   "cell_type": "code",
   "execution_count": 9,
   "metadata": {
    "collapsed": false
   },
   "outputs": [
    {
     "name": "stdout",
     "output_type": "stream",
     "text": [
      " Total energy in the final basis set = -1364.5425494842\n",
      " Total energy in the final basis set = -189.2277694223\n",
      " Total energy in the final basis set = -1553.1339006689\n"
     ]
    }
   ],
   "source": [
    "with open(outputfilepath) as outputfile:\n",
    "    for line in outputfile:\n",
    "        if \"Total energy in the final basis\" in line:\n",
    "            print(line, end='')"
   ]
  },
  {
   "cell_type": "markdown",
   "metadata": {},
   "source": [
    "Actually, it might be instructive to do a timing comparison between the two approaches."
   ]
  },
  {
   "cell_type": "code",
   "execution_count": 10,
   "metadata": {
    "collapsed": true
   },
   "outputs": [],
   "source": [
    "searchstr = \"Total energy in the final basis\""
   ]
  },
  {
   "cell_type": "code",
   "execution_count": 14,
   "metadata": {
    "collapsed": false
   },
   "outputs": [
    {
     "name": "stdout",
     "output_type": "stream",
     "text": [
      "10000 loops, best of 10: 482 µs per loop\n"
     ]
    }
   ],
   "source": [
    "%%timeit -n 10000 -r 10\n",
    "counter = 0\n",
    "with open(outputfilepath) as outputfile:\n",
    "    raw_contents = outputfile.read()\n",
    "for line in iter(raw_contents.splitlines()):\n",
    "    if searchstr in line:\n",
    "        counter += 1"
   ]
  },
  {
   "cell_type": "code",
   "execution_count": 15,
   "metadata": {
    "collapsed": false
   },
   "outputs": [
    {
     "name": "stdout",
     "output_type": "stream",
     "text": [
      "10000 loops, best of 10: 517 µs per loop\n"
     ]
    }
   ],
   "source": [
    "%%timeit -n 10000 -r 10\n",
    "counter = 0\n",
    "with open(outputfilepath) as outputfile:\n",
    "    for line in outputfile:\n",
    "        if searchstr in line:\n",
    "            counter += 1"
   ]
  },
  {
   "cell_type": "markdown",
   "metadata": {},
   "source": [
    "It looks like there's a very slight time penalty the second way, and it might be generally true that memory-efficient algorithms usually require more CPU time. The second way also looks a little bit cleaner, and it's easier to understand what's going on.\n",
    "\n",
    "Let's change the string we're looking for to one that's more relevant to the EDA/COVP analysis."
   ]
  },
  {
   "cell_type": "code",
   "execution_count": 16,
   "metadata": {
    "collapsed": true
   },
   "outputs": [],
   "source": [
    "searchstr = \"Energy decomposition of the delocalization term, kJ/mol\""
   ]
  },
  {
   "cell_type": "code",
   "execution_count": 20,
   "metadata": {
    "collapsed": false
   },
   "outputs": [
    {
     "name": "stdout",
     "output_type": "stream",
     "text": [
      " *      Energy decomposition of the delocalization term, kJ/mol      * \n"
     ]
    }
   ],
   "source": [
    "with open(outputfilepath) as outputfile:\n",
    "    for line in outputfile:\n",
    "        if searchstr in line:\n",
    "            print(line, end='')"
   ]
  },
  {
   "cell_type": "markdown",
   "metadata": {},
   "source": [
    "That's fine, but we also want some of the lines that come after the header."
   ]
  },
  {
   "cell_type": "code",
   "execution_count": 19,
   "metadata": {
    "collapsed": false
   },
   "outputs": [
    {
     "name": "stdout",
     "output_type": "stream",
     "text": [
      " *      Energy decomposition of the delocalization term, kJ/mol      * \n",
      " *-------------------------------------------------------------------* \n",
      "                DEL from fragment(row) to fragment(col)                \n",
      "  -------------------------------------------------------------------    \n",
      "             1           2\n",
      "    1     0.00000    -9.01048\n",
      "    2    -6.09647    -0.00000\n",
      " ---------------------------------------------------------------------\n",
      "\n",
      "\n"
     ]
    }
   ],
   "source": [
    "with open(outputfilepath) as outputfile:\n",
    "    for line in outputfile:\n",
    "        if searchstr in line:\n",
    "            # print 10 lines instead\n",
    "            for _ in range(10):\n",
    "                print(line, end='')\n",
    "                line = next(outputfile)"
   ]
  },
  {
   "cell_type": "markdown",
   "metadata": {},
   "source": [
    "Here we've used two tricks:\n",
    "\n",
    "1. Just because we can define variables in loops (like when `range()` or `zip()` or `enumerate()` are used) doesn't mean we need to use them. Sometimes you'll see `_` used as the loop variable when it doesn't matter what it's called, but you still need to assign a variable for a function call or something else to work properly.\n",
    "\n",
    "2. Any file that's open where you have access to the handle (called `outputfile` in the above example), or anything that can be wrapped with an `iter()` to make it **iterable**, can have the `next()` function called on it to return the next item. In the case of files, you iterate over the lines one by one (separated by newlines). That's why I have the statement `for line in outputfile:`, where `outputfile` is the iterator and `line` is the variable that contains whatever the latest item is from the `outputfile` iterator.\n",
    "\n",
    "To learn more about iterators, there's the official documentation, and I found this Stack Overflow post: http://stackoverflow.com/questions/9884132/what-exactly-are-pythons-iterator-iterable-and-iteration-protocols\n",
    "\n",
    "Usually, we don't specify a set number of extra lines to iterate, because that number isn't fixed. Instead, we parse until we hit some other line that's a good stopping point. Here is the full block we're interested in, plus the start of the other one for some context:\n",
    "\n",
    "```\n",
    " *-------------------------------------------------------------------*\n",
    " *      Energy decomposition of the delocalization term, kJ/mol      *\n",
    " *-------------------------------------------------------------------*\n",
    "                DEL from fragment(row) to fragment(col)\n",
    "  -------------------------------------------------------------------\n",
    "             1           2\n",
    "    1     0.00000    -9.01048\n",
    "    2    -6.09647    -0.00000\n",
    " ---------------------------------------------------------------------\n",
    "\n",
    "\n",
    " ---------------------------------------------------------------------\n",
    " *                     Charge transfer analysis                      *\n",
    " *             R.Z.Khaliullin, A.T. Bell, M.Head-Gordon              *\n",
    " *                J. Chem. Phys., 2008, 128, 184112                  *\n",
    " *-------------------------------------------------------------------*\n",
    "```\n",
    "\n",
    "The \"variable\" part of parsing here is the number of rows and columns between the two lines of dashes that come after `DEL from...`. That's the line we should really be search for, since it's unique in the output file, and it's closer to the lines we want to extract.\n",
    "\n",
    "Here's the idea.\n",
    "\n",
    "1. Search for the line.\n",
    "2. Make sure we skip the line with the dashes.\n",
    "3. Make sure we skip the line with the column indices. **Important note**: We're going to assume that the number of columns won't overflow! This will only work for 5 or fewer fragments.\n",
    "4. ..."
   ]
  },
  {
   "cell_type": "code",
   "execution_count": 28,
   "metadata": {
    "collapsed": false
   },
   "outputs": [
    {
     "name": "stdout",
     "output_type": "stream",
     "text": [
      "    1     0.00000    -9.01048\n",
      "    2    -6.09647    -0.00000\n"
     ]
    }
   ],
   "source": [
    "searchstr = \"DEL from fragment(row) to fragment(col)\"\n",
    "with open(outputfilepath) as outputfile:\n",
    "    for line in outputfile:\n",
    "        if searchstr in line:\n",
    "            # This is now the line with the dashes.\n",
    "            line = next(outputfile)\n",
    "            # This is now the line with the column indices.\n",
    "            line = next(outputfile)\n",
    "            # Skip again to get the first line we want to parse.\n",
    "            line = next(outputfile)\n",
    "            # This ensures the parsing will terminate once the block is over.\n",
    "            while list(set(line.strip())) != ['-']:\n",
    "                print(line, end='')\n",
    "                line = next(outputfile)"
   ]
  },
  {
   "cell_type": "markdown",
   "metadata": {},
   "source": [
    "Now we're printing the correct rows. How should we store these values? It's probably best to put them in a NumPy array, but since that array needs to be allocated beforehand, we need to know the shape (which is the number of fragments. How do we get that?"
   ]
  },
  {
   "cell_type": "code",
   "execution_count": 30,
   "metadata": {
    "collapsed": false
   },
   "outputs": [
    {
     "name": "stdout",
     "output_type": "stream",
     "text": [
      "2\n"
     ]
    }
   ],
   "source": [
    "searchstr_num_fragments = \"SCF on fragment 1 out of\"\n",
    "with open(outputfilepath) as outputfile:\n",
    "    for line in outputfile:\n",
    "        if searchstr_num_fragments in line:\n",
    "            nfragments = int(line.split()[-1])\n",
    "print(nfragments)"
   ]
  },
  {
   "cell_type": "markdown",
   "metadata": {},
   "source": [
    "Now, combine the two and place a NumPy array allocation in the middle.\n",
    "\n",
    "The last tricky bit will be assigning the text/string values to array elements. We're going to use the slicing syntax for both the NumPy array and the string we're splitting."
   ]
  },
  {
   "cell_type": "code",
   "execution_count": 35,
   "metadata": {
    "collapsed": false
   },
   "outputs": [],
   "source": [
    "searchstr_num_fragments = \"SCF on fragment 1 out of\"\n",
    "with open(outputfilepath) as outputfile:\n",
    "    for line in outputfile:\n",
    "        if searchstr_num_fragments in line:\n",
    "            nfragments = int(line.split()[-1])\n",
    "# create an empty array (where we don't initialize the elements to 0, 1, or anything else)\n",
    "fragment_del_energies = np.empty(shape=(nfragments, nfragments))\n",
    "searchstr = \"DEL from fragment(row) to fragment(col)\"\n",
    "with open(outputfilepath) as outputfile:\n",
    "    for line in outputfile:\n",
    "        if searchstr in line:\n",
    "            line = next(outputfile)\n",
    "            line = next(outputfile)\n",
    "            line = next(outputfile)\n",
    "            # We need to keep track of our row index with a counter, because we can't\n",
    "            # use enumerate with a while loop.\n",
    "            # We need to keep track of our row index in the first place because we're\n",
    "            # indexing into a NumPy array.\n",
    "            row_counter = 0\n",
    "            while list(set(line.strip())) != ['-']:\n",
    "                # 'map' float() onto every element of the list\n",
    "                # map() returns a generator, so turn it back into a list\n",
    "                sline = list(map(float, line.split()[1:]))\n",
    "                # set all columns in a given row to \n",
    "                fragment_del_energies[row_counter, :] = sline\n",
    "                line = next(outputfile)\n",
    "                row_counter += 1"
   ]
  },
  {
   "cell_type": "code",
   "execution_count": 36,
   "metadata": {
    "collapsed": false
   },
   "outputs": [
    {
     "name": "stdout",
     "output_type": "stream",
     "text": [
      "[[ 0.      -9.01048]\n",
      " [-6.09647 -0.     ]]\n"
     ]
    }
   ],
   "source": [
    "print(fragment_del_energies)"
   ]
  },
  {
   "cell_type": "markdown",
   "metadata": {},
   "source": [
    "It's probably a good idea to turn these into functions, so for an arbitrary calculation, they can be run."
   ]
  },
  {
   "cell_type": "code",
   "execution_count": 37,
   "metadata": {
    "collapsed": true
   },
   "outputs": [],
   "source": [
    "def get_num_fragments(outputfilepath):\n",
    "    \"\"\"Given a path to an output file, figure out how many fragments are part of it.\n",
    "    \"\"\"\n",
    "    searchstr_num_fragments = \"SCF on fragment 1 out of\"\n",
    "    with open(outputfilepath) as outputfile:\n",
    "        for line in outputfile:\n",
    "            if searchstr_num_fragments in line:\n",
    "                nfragments = int(line.split()[-1])\n",
    "                return nfragments"
   ]
  },
  {
   "cell_type": "code",
   "execution_count": 38,
   "metadata": {
    "collapsed": true
   },
   "outputs": [],
   "source": [
    "def get_eda_fragment_delocalization_energies(outputfilepath, nfragments):\n",
    "    \"\"\"Given a path to an output file and the number of fragments it contains, return the\n",
    "    delocalization energies between fragments.\n",
    "    \"\"\"\n",
    "    fragment_del_energies = np.empty(shape=(nfragments, nfragments))\n",
    "    searchstr = \"DEL from fragment(row) to fragment(col)\"\n",
    "    with open(outputfilepath) as outputfile:\n",
    "        for line in outputfile:\n",
    "            if searchstr in line:\n",
    "                line = next(outputfile)\n",
    "                line = next(outputfile)\n",
    "                line = next(outputfile)\n",
    "                row_counter = 0\n",
    "                while list(set(line.strip())) != ['-']:\n",
    "                    sline = list(map(float, line.split()[1:]))\n",
    "                    fragment_del_energies[row_counter, :] = sline\n",
    "                    line = next(outputfile)\n",
    "                    row_counter += 1\n",
    "    return fragment_del_energies"
   ]
  },
  {
   "cell_type": "markdown",
   "metadata": {},
   "source": [
    "Now let's use it:"
   ]
  },
  {
   "cell_type": "code",
   "execution_count": 39,
   "metadata": {
    "collapsed": false
   },
   "outputs": [
    {
     "name": "stdout",
     "output_type": "stream",
     "text": [
      "[[ 0.      -9.01048]\n",
      " [-6.09647 -0.     ]]\n"
     ]
    }
   ],
   "source": [
    "nfragments = get_num_fragments(outputfilepath)\n",
    "fragment_del_energies = get_eda_fragment_delocalization_energies(outputfilepath, nfragments)\n",
    "print(fragment_del_energies)"
   ]
  },
  {
   "cell_type": "markdown",
   "metadata": {},
   "source": [
    "We can write something almost identical for the decompsition of the charge transfer term, which measures the number of millielectrons that move between fragments:"
   ]
  },
  {
   "cell_type": "code",
   "execution_count": 42,
   "metadata": {
    "collapsed": true
   },
   "outputs": [],
   "source": [
    "def get_eda_fragment_delocalization_millielectrons(outputfilepath, nfragments):\n",
    "    \"\"\"Given a path to an output file and the number of fragments it contains,\n",
    "    return the number of millielectrons that delocalize between fragments.\n",
    "    \"\"\"\n",
    "    fragment_del_millielectrons = np.empty(shape=(nfragments, nfragments))\n",
    "    searchstr = \"Delocalization from fragment(row) to fragment(col)\"\n",
    "    with open(outputfilepath) as outputfile:\n",
    "        for line in outputfile:\n",
    "            if searchstr in line:\n",
    "                line = next(outputfile)\n",
    "                line = next(outputfile)\n",
    "                line = next(outputfile)\n",
    "                row_counter = 0\n",
    "                while list(set(line.strip())) != ['-']:\n",
    "                    sline = list(map(float, line.split()[1:]))\n",
    "                    fragment_del_millielectrons[row_counter, :] = sline\n",
    "                    line = next(outputfile)\n",
    "                    row_counter += 1\n",
    "    return fragment_del_millielectrons"
   ]
  },
  {
   "cell_type": "code",
   "execution_count": 43,
   "metadata": {
    "collapsed": false
   },
   "outputs": [
    {
     "name": "stdout",
     "output_type": "stream",
     "text": [
      "[[-0.13754  4.83685]\n",
      " [ 3.7973  -0.10332]]\n"
     ]
    }
   ],
   "source": [
    "fragment_del_millielectrons = get_eda_fragment_delocalization_millielectrons(outputfilepath, nfragments)\n",
    "print(fragment_del_millielectrons)"
   ]
  },
  {
   "cell_type": "markdown",
   "metadata": {},
   "source": [
    "The easier we make it to reuse our code for new calculations, the faster we get to analysis and thinking about our data.\n",
    "\n",
    "Since we're \"delocalizing\" from row to column, we should be able to get the total number of millielectrons donated by each fragment as the sum over all columns for each row. To get the total number of millielectrons accepted by a fragment, we can take the sum over all rows for a given column.\n",
    "\n",
    "For this particular calculation, fragment 1 is a combined anion/cation ionic liquid pair, and fragment 2 is CO$_2$. Knowing this, we probably expect more charge to shift from the ionic liquid onto the CO$_2$, though it's hard to say that conclusively since the anion can just delocalize onto the cation (the whole fragment is of course charge neutral). So, it shouldn't be too surprising if the numbers aren't very different."
   ]
  },
  {
   "cell_type": "code",
   "execution_count": 47,
   "metadata": {
    "collapsed": false
   },
   "outputs": [
    {
     "name": "stdout",
     "output_type": "stream",
     "text": [
      "4.69931 3.69398\n"
     ]
    }
   ],
   "source": [
    "me_donated_by_il = np.sum(fragment_del_millielectrons[0, :])\n",
    "me_donated_by_co2 = np.sum(fragment_del_millielectrons[1, :])\n",
    "print(me_donated_by_il, me_donated_by_co2)"
   ]
  },
  {
   "cell_type": "markdown",
   "metadata": {},
   "source": [
    "There's a net donation of charge density from the ionic liquid onto the CO$_2$, as expected.\n",
    "\n",
    "What about charge accepted?"
   ]
  },
  {
   "cell_type": "code",
   "execution_count": 48,
   "metadata": {
    "collapsed": false
   },
   "outputs": [
    {
     "name": "stdout",
     "output_type": "stream",
     "text": [
      "3.65976 4.73353\n"
     ]
    }
   ],
   "source": [
    "me_accepted_by_il = np.sum(fragment_del_millielectrons[:, 0])\n",
    "me_accepted_by_co2 = np.sum(fragment_del_millielectrons[:, 1])\n",
    "print(me_accepted_by_il, me_accepted_by_co2)"
   ]
  },
  {
   "cell_type": "markdown",
   "metadata": {},
   "source": [
    "The values are almost exactly the opposite of the charge donation values. Why aren't they exactly the same?"
   ]
  },
  {
   "cell_type": "markdown",
   "metadata": {},
   "source": [
    "# Parsing the COVP section"
   ]
  },
  {
   "cell_type": "markdown",
   "metadata": {},
   "source": [
    "There's an additional section of output that can be requested when performing calculations with only two fragments; complementary occupied-virtual pairs (COVPs) can be formed which allows for a direct assignment between a donor orbital on one fragment with an acceptor on the other. The amount of charge transferred between COVPs in both directions is calculated in terms of energy and millielectrons.\n",
    "\n",
    "```\n",
    " ---------------------------------------------------------------------\n",
    " *               Complementary occupied-virtual pairs                *\n",
    " *                  Delta E, kJ/mol; Delta Q, me-                    *\n",
    " *                        No BSSE correction                         *\n",
    " ---------------------------------------------------------------------\n",
    "   From fragment 1 to fragment 2\n",
    " ---------------------------------------------------------------------\n",
    "   #   Delta E(Alpha)    Delta E(Beta)  Delta Q(Alpha)   Delta Q(Beta)\n",
    " ---------------------------------------------------------------------\n",
    "   1  -3.1119( 69.1%)  -3.1119( 69.1%)   1.805( 74.7%)   1.805( 74.7%)\n",
    "   2  -0.9232( 20.5%)  -0.9232( 20.5%)   0.415( 17.2%)   0.415( 17.2%)\n",
    "   3  -0.2344(  5.2%)  -0.2344(  5.2%)   0.119(  4.9%)   0.119(  4.9%)\n",
    "   4  -0.0771(  1.7%)  -0.0771(  1.7%)   0.034(  1.4%)   0.034(  1.4%)\n",
    "   5  -0.0536(  1.2%)  -0.0536(  1.2%)   0.016(  0.7%)   0.016(  0.7%)\n",
    "   6  -0.0324(  0.7%)  -0.0324(  0.7%)   0.010(  0.4%)   0.010(  0.4%)\n",
    "   7  -0.0245(  0.5%)  -0.0245(  0.5%)   0.009(  0.4%)   0.009(  0.4%)\n",
    "   8  -0.0197(  0.4%)  -0.0197(  0.4%)   0.005(  0.2%)   0.005(  0.2%)\n",
    "   9  -0.0111(  0.2%)  -0.0111(  0.2%)   0.003(  0.1%)   0.003(  0.1%)\n",
    "  10  -0.0104(  0.2%)  -0.0104(  0.2%)   0.002(  0.1%)   0.002(  0.1%)\n",
    "  11  -0.0023(  0.1%)  -0.0023(  0.1%)   0.001(  0.0%)   0.001(  0.0%)\n",
    "  12  -0.0011(  0.0%)  -0.0011(  0.0%)   0.000(  0.0%)   0.000(  0.0%)\n",
    "  13  -0.0011(  0.0%)  -0.0011(  0.0%)   0.000(  0.0%)   0.000(  0.0%)\n",
    "  14  -0.0009(  0.0%)  -0.0009(  0.0%)   0.000(  0.0%)   0.000(  0.0%)\n",
    "  15  -0.0005(  0.0%)  -0.0005(  0.0%)   0.000(  0.0%)   0.000(  0.0%)\n",
    "  16  -0.0004(  0.0%)  -0.0004(  0.0%)   0.000(  0.0%)   0.000(  0.0%)\n",
    "  17  -0.0003(  0.0%)  -0.0003(  0.0%)   0.000(  0.0%)   0.000(  0.0%)\n",
    "  18  -0.0001(  0.0%)  -0.0001(  0.0%)   0.000(  0.0%)   0.000(  0.0%)\n",
    "  19  -0.0001(  0.0%)  -0.0001(  0.0%)   0.000(  0.0%)   0.000(  0.0%)\n",
    "  20  -0.0001(  0.0%)  -0.0001(  0.0%)   0.000(  0.0%)   0.000(  0.0%)\n",
    "  21  -0.0001(  0.0%)  -0.0001(  0.0%)   0.000(  0.0%)   0.000(  0.0%)\n",
    "  22  -0.0000(  0.0%)  -0.0000(  0.0%)   0.000(  0.0%)   0.000(  0.0%)\n",
    "  23  -0.0000(  0.0%)  -0.0000(  0.0%)   0.000(  0.0%)   0.000(  0.0%)\n",
    "  24  -0.0000(  0.0%)  -0.0000(  0.0%)   0.000(  0.0%)   0.000(  0.0%)\n",
    "  25  -0.0000(  0.0%)  -0.0000(  0.0%)   0.000(  0.0%)   0.000(  0.0%)\n",
    "  26  -0.0000(  0.0%)  -0.0000(  0.0%)   0.000(  0.0%)   0.000(  0.0%)\n",
    "  27  -0.0000(  0.0%)  -0.0000(  0.0%)   0.000(  0.0%)   0.000(  0.0%)\n",
    "  28  -0.0000(  0.0%)  -0.0000(  0.0%)   0.000(  0.0%)   0.000(  0.0%)\n",
    "  29  -0.0000(  0.0%)  -0.0000(  0.0%)   0.000(  0.0%)   0.000(  0.0%)\n",
    "  30  -0.0000(  0.0%)  -0.0000(  0.0%)   0.000(  0.0%)   0.000(  0.0%)\n",
    "  31  -0.0000(  0.0%)  -0.0000(  0.0%)   0.000(  0.0%)   0.000(  0.0%)\n",
    "  32  -0.0000(  0.0%)  -0.0000(  0.0%)   0.000(  0.0%)   0.000(  0.0%)\n",
    "  33  -0.0000(  0.0%)  -0.0000(  0.0%)   0.000(  0.0%)   0.000(  0.0%)\n",
    "  34  -0.0000(  0.0%)  -0.0000(  0.0%)   0.000(  0.0%)   0.000(  0.0%)\n",
    " ---------------------------------------------------------------------\n",
    " Tot  -4.5052(100.0%)  -4.5052(100.0%)   2.418(100.0%)   2.418(100.0%)\n",
    " ---------------------------------------------------------------------\n",
    "   From fragment 2 to fragment 1\n",
    " ---------------------------------------------------------------------\n",
    "   #   Delta E(Alpha)    Delta E(Beta)  Delta Q(Alpha)   Delta Q(Beta)\n",
    " ---------------------------------------------------------------------\n",
    "   1  -2.2084( 72.4%)  -2.2084( 72.4%)   1.532( 80.7%)   1.532( 80.7%)\n",
    "   2  -0.3802( 12.5%)  -0.3802( 12.5%)   0.182(  9.6%)   0.182(  9.6%)\n",
    "   3  -0.2128(  7.0%)  -0.2128(  7.0%)   0.082(  4.3%)   0.082(  4.3%)\n",
    "   4  -0.1511(  5.0%)  -0.1511(  5.0%)   0.070(  3.7%)   0.070(  3.7%)\n",
    "   5  -0.0526(  1.7%)  -0.0526(  1.7%)   0.020(  1.1%)   0.020(  1.1%)\n",
    "   6  -0.0337(  1.1%)  -0.0337(  1.1%)   0.010(  0.5%)   0.010(  0.5%)\n",
    "   7  -0.0053(  0.2%)  -0.0053(  0.2%)   0.001(  0.0%)   0.001(  0.0%)\n",
    "   8  -0.0027(  0.1%)  -0.0027(  0.1%)   0.000(  0.0%)   0.000(  0.0%)\n",
    "   9  -0.0011(  0.0%)  -0.0011(  0.0%)   0.000(  0.0%)   0.000(  0.0%)\n",
    "  10  -0.0003(  0.0%)  -0.0003(  0.0%)   0.000(  0.0%)   0.000(  0.0%)\n",
    "  11  -0.0002(  0.0%)  -0.0002(  0.0%)   0.000(  0.0%)   0.000(  0.0%)\n",
    " ---------------------------------------------------------------------\n",
    " Tot  -3.0482(100.0%)  -3.0482(100.0%)   1.899(100.0%)   1.899(100.0%)\n",
    " ---------------------------------------------------------------------\n",
    "```\n",
    "\n",
    "The most interesting values are the totals from each fragment to the other. Both the energy and number of millielectrons would be good to have. There's two columns for each, one each for alpha and beta spin; since we're using a spin-restricted wavefunction, they're identical, and we only care about one spin.\n",
    "\n",
    "It's been determined that the \"target\" lines containing the numbers we want are\n",
    "\n",
    "```\n",
    "Tot  -4.5052(100.0%)  -4.5052(100.0%)   2.418(100.0%)   2.418(100.0%)\n",
    "Tot  -3.0482(100.0%)  -3.0482(100.0%)   1.899(100.0%)   1.899(100.0%)\n",
    "```\n",
    "\n",
    "but really just\n",
    "\n",
    "```\n",
    "(-4.5052, 2.418)\n",
    "(-3.0482, 1.899)\n",
    "```\n",
    "\n",
    "so what text can we search for? `#   Delta E(Alpha)    Delta E(Beta)  Delta Q(Alpha)   Delta Q(Beta)` is a good choice; it isn't unique within the entire block, but it only appears inside *this* block, and it clearly starts each section. We can also search for `Tot`."
   ]
  },
  {
   "cell_type": "code",
   "execution_count": 49,
   "metadata": {
    "collapsed": false
   },
   "outputs": [
    {
     "name": "stdout",
     "output_type": "stream",
     "text": [
      "   #   Delta E(Alpha)    Delta E(Beta)  Delta Q(Alpha)   Delta Q(Beta)\n",
      "   #   Delta E(Alpha)    Delta E(Beta)  Delta Q(Alpha)   Delta Q(Beta)\n"
     ]
    }
   ],
   "source": [
    "searchstr = \"#   Delta E(Alpha)    Delta E(Beta)  Delta Q(Alpha)   Delta Q(Beta)\"\n",
    "with open(outputfilepath) as outputfile:\n",
    "    for line in outputfile:\n",
    "        if searchstr in line:\n",
    "            print(line, end='')"
   ]
  },
  {
   "cell_type": "markdown",
   "metadata": {},
   "source": [
    "Now use the trick where we stick a `while` loop inside the `if` statement and call the `outputfile` iterator until we hit `Tot`:"
   ]
  },
  {
   "cell_type": "code",
   "execution_count": 53,
   "metadata": {
    "collapsed": false
   },
   "outputs": [
    {
     "name": "stdout",
     "output_type": "stream",
     "text": [
      " Tot  -4.5052(100.0%)  -4.5052(100.0%)   2.418(100.0%)   2.418(100.0%)\n",
      " Tot  -3.0482(100.0%)  -3.0482(100.0%)   1.899(100.0%)   1.899(100.0%)\n"
     ]
    }
   ],
   "source": [
    "searchstr = \"#   Delta E(Alpha)    Delta E(Beta)  Delta Q(Alpha)   Delta Q(Beta)\"\n",
    "with open(outputfilepath) as outputfile:\n",
    "    for line in outputfile:\n",
    "        if searchstr in line:\n",
    "            # Do an exact character match on the string.\n",
    "            while line[:4] != \" Tot\":\n",
    "                line = next(outputfile)\n",
    "            print(line, end='')"
   ]
  },
  {
   "cell_type": "markdown",
   "metadata": {},
   "source": [
    "All that each line requires is a bit of manipulation: split, take the `[1::2]` entries (quiz: what does this do?), get rid of the percentage stuff, map the values to floats, and return them as tuples. There's a problem though: how can we uniquely return *both* tuples? We could append every match to a list and return the list, but I'd rather be more explicit here since we're only dealing with two lines."
   ]
  },
  {
   "cell_type": "code",
   "execution_count": 55,
   "metadata": {
    "collapsed": false
   },
   "outputs": [
    {
     "name": "stdout",
     "output_type": "stream",
     "text": [
      " Tot  -4.5052(100.0%)  -4.5052(100.0%)   2.418(100.0%)   2.418(100.0%)\n",
      " Tot  -3.0482(100.0%)  -3.0482(100.0%)   1.899(100.0%)   1.899(100.0%)\n"
     ]
    }
   ],
   "source": [
    "searchstr = \"#   Delta E(Alpha)    Delta E(Beta)  Delta Q(Alpha)   Delta Q(Beta)\"\n",
    "with open(outputfilepath) as outputfile:\n",
    "    for line in outputfile:\n",
    "        if searchstr in line:\n",
    "            while line[:4] != \" Tot\":\n",
    "                line = next(outputfile)\n",
    "            print(line, end='')\n",
    "            line = next(outputfile)\n",
    "            while line[:4] != \" Tot\":\n",
    "                line = next(outputfile)\n",
    "            print(line, end='')"
   ]
  },
  {
   "cell_type": "markdown",
   "metadata": {},
   "source": [
    "This isn't a good idea for more complicated cases (for example, it won't work if `Tot` is on two consecutive lines), but it works more often than not.\n",
    "\n",
    "The lines that we just print to the screen can now be manipulated and assigned to unique variables:"
   ]
  },
  {
   "cell_type": "code",
   "execution_count": 56,
   "metadata": {
    "collapsed": false
   },
   "outputs": [
    {
     "name": "stdout",
     "output_type": "stream",
     "text": [
      "(-4.5052, 2.418)\n",
      "(-3.0482, 1.899)\n"
     ]
    }
   ],
   "source": [
    "searchstr = \"#   Delta E(Alpha)    Delta E(Beta)  Delta Q(Alpha)   Delta Q(Beta)\"\n",
    "with open(outputfilepath) as outputfile:\n",
    "    for line in outputfile:\n",
    "        if searchstr in line:\n",
    "            while line[:4] != \" Tot\":\n",
    "                line = next(outputfile)\n",
    "            f_1_to_2 = tuple([float(x[:-8]) for x in line.split()[1::2]])\n",
    "            print(f_1_to_2)\n",
    "            line = next(outputfile)\n",
    "            while line[:4] != \" Tot\":\n",
    "                line = next(outputfile)\n",
    "            f_2_to_1 = tuple([float(x[:-8]) for x in line.split()[1::2]])\n",
    "            print(f_2_to_1)"
   ]
  },
  {
   "cell_type": "markdown",
   "metadata": {},
   "source": [
    "Notice that the `list(map(float, line.split()))` trick can't be used, because we are just doing a type conversion for each element, but also a slicing operation. We could also do the slicing operation with a map and an *anonymous function*, but it doesn't look as nice:"
   ]
  },
  {
   "cell_type": "code",
   "execution_count": 57,
   "metadata": {
    "collapsed": false
   },
   "outputs": [
    {
     "name": "stdout",
     "output_type": "stream",
     "text": [
      "(-4.5052, 2.418)\n",
      "(-3.0482, 1.899)\n"
     ]
    }
   ],
   "source": [
    "searchstr = \"#   Delta E(Alpha)    Delta E(Beta)  Delta Q(Alpha)   Delta Q(Beta)\"\n",
    "with open(outputfilepath) as outputfile:\n",
    "    for line in outputfile:\n",
    "        if searchstr in line:\n",
    "            while line[:4] != \" Tot\":\n",
    "                line = next(outputfile)\n",
    "            f_1_to_2 = tuple(map(lambda x: float(x[:-8]), line.split()[1::2]))\n",
    "            print(f_1_to_2)\n",
    "            line = next(outputfile)\n",
    "            while line[:4] != \" Tot\":\n",
    "                line = next(outputfile)\n",
    "            f_2_to_1 = tuple(map(lambda x: float(x[:-8]), line.split()[1::2]))\n",
    "            print(f_2_to_1)"
   ]
  },
  {
   "cell_type": "markdown",
   "metadata": {},
   "source": [
    "Maybe it looks fine; if you've never used an anonymous function before it can be a bit odd. I just tend to write the former with the explicit list comprehension.\n",
    "\n",
    "Now turn it into a function:"
   ]
  },
  {
   "cell_type": "code",
   "execution_count": 60,
   "metadata": {
    "collapsed": true
   },
   "outputs": [],
   "source": [
    "def get_eda_covp_totals(outputfilepath):\n",
    "    \"\"\"Given a path to an output file, return the totals for each fragment from the COVP analysis.\n",
    "    The first element of the tuple is the energy contribution, the second element is the\n",
    "    number of millielectrons transferred.\"\"\"\n",
    "    searchstr = \"#   Delta E(Alpha)    Delta E(Beta)  Delta Q(Alpha)   Delta Q(Beta)\"\n",
    "    with open(outputfilepath) as outputfile:\n",
    "        for line in outputfile:\n",
    "            if searchstr in line:\n",
    "                while line[:4] != \" Tot\":\n",
    "                    line = next(outputfile)\n",
    "                f_1_to_2 = tuple(map(lambda x: float(x[:-8]), line.split()[1::2]))\n",
    "                line = next(outputfile)\n",
    "                while line[:4] != \" Tot\":\n",
    "                    line = next(outputfile)\n",
    "                f_2_to_1 = tuple(map(lambda x: float(x[:-8]), line.split()[1::2]))\n",
    "    return f_1_to_2, f_2_to_1"
   ]
  },
  {
   "cell_type": "code",
   "execution_count": 59,
   "metadata": {
    "collapsed": false
   },
   "outputs": [
    {
     "name": "stdout",
     "output_type": "stream",
     "text": [
      "(-4.5052, 2.418)\n",
      "(-3.0482, 1.899)\n"
     ]
    }
   ],
   "source": [
    "f_1_to_2, f_2_to_1 = get_eda_covp_totals(outputfilepath)\n",
    "print(f_1_to_2)\n",
    "print(f_2_to_1)"
   ]
  },
  {
   "cell_type": "markdown",
   "metadata": {},
   "source": [
    "# Summary"
   ]
  },
  {
   "cell_type": "markdown",
   "metadata": {},
   "source": [
    "What are some of the advantages of these approaches?\n",
    "\n",
    "1. Keep as much stuff inside functions as possible. If a function has more than a handful of functions, it's either too big or just shouldn't be a function. These only take one or two arguments.\n",
    "2. There are quite a few loops, most of them nested, which can be a problem, but the *control flow* for finding specific lines in files is very explicit. This is a better alternative to reading in the file, splitting the whole thing on newlines, wrapping in an iterator, calling `next()` a fixed number of times, etc.\n",
    "3. A balance between being very specific and very general. This mostly comes from practice and experience."
   ]
  }
 ],
 "metadata": {
  "kernelspec": {
   "display_name": "Python 3",
   "language": "python",
   "name": "python3"
  },
  "language_info": {
   "codemirror_mode": {
    "name": "ipython",
    "version": 3
   },
   "file_extension": ".py",
   "mimetype": "text/x-python",
   "name": "python",
   "nbconvert_exporter": "python",
   "pygments_lexer": "ipython3",
   "version": "3.4.3"
  }
 },
 "nbformat": 4,
 "nbformat_minor": 0
}
