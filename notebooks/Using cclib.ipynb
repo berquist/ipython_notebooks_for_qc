{
 "cells": [
  {
   "cell_type": "markdown",
   "metadata": {},
   "source": [
    "# Using cclib"
   ]
  },
  {
   "cell_type": "code",
   "execution_count": 1,
   "metadata": {
    "collapsed": false
   },
   "outputs": [
    {
     "data": {
      "text/html": [
       "<img src=\"https://github.com/cclib/cclib/raw/master/logo.png\"/>"
      ],
      "text/plain": [
       "<IPython.core.display.Image object>"
      ]
     },
     "execution_count": 1,
     "metadata": {},
     "output_type": "execute_result"
    }
   ],
   "source": [
    "import IPython\n",
    "url = \"https://github.com/cclib/cclib/raw/master/logo.png\"\n",
    "IPython.display.Image(url=url)"
   ]
  },
  {
   "cell_type": "markdown",
   "metadata": {},
   "source": [
    "* Main documentation: http://cclib.github.io/\n",
    "* GitHub: https://github.com/cclib/cclib"
   ]
  },
  {
   "cell_type": "markdown",
   "metadata": {},
   "source": [
    "To quote the GitHub page,\n",
    "\n",
    "> cclib is a Python library that provides parsers for output files of computational chemistry packages. It also provides a platform for computational chemists to implement algorithms in a platform-independent way."
   ]
  },
  {
   "cell_type": "markdown",
   "metadata": {},
   "source": [
    "What this means is that for many common properties that can be calculated using quantum chemistry packages, cclib can turn them into Python objects for manipulation. This is especially valuable for analysis."
   ]
  },
  {
   "cell_type": "markdown",
   "metadata": {},
   "source": [
    "It also means that much of the work we did in the \"Reading QM outputs\" exercises is no longer necessary. Given a path to an output file, cclib will open it, search for all possible properties it \"knows\" about, and will extract them into appropriate Python datatypes."
   ]
  },
  {
   "cell_type": "markdown",
   "metadata": {},
   "source": [
    "The most common way to use cclib is as follows:"
   ]
  },
  {
   "cell_type": "code",
   "execution_count": 2,
   "metadata": {
    "collapsed": false
   },
   "outputs": [],
   "source": [
    "from cclib.parser import ccread"
   ]
  },
  {
   "cell_type": "code",
   "execution_count": 3,
   "metadata": {
    "collapsed": false
   },
   "outputs": [],
   "source": [
    "ccdata = ccread(\"../qm_files/drop_0375_0qm_0mm.out\")"
   ]
  },
  {
   "cell_type": "markdown",
   "metadata": {},
   "source": [
    "In older code, you might see this as well; it should be equivalent to using `ccread`."
   ]
  },
  {
   "cell_type": "code",
   "execution_count": 4,
   "metadata": {
    "collapsed": true
   },
   "outputs": [],
   "source": [
    "from cclib.parser import ccopen\n",
    "job = ccopen(\"../qm_files/drop_0375_0qm_0mm.out\")\n",
    "ccdata2 = job.parse()"
   ]
  },
  {
   "cell_type": "markdown",
   "metadata": {},
   "source": [
    "Let's see what's available when we open or parse an output file:"
   ]
  },
  {
   "cell_type": "code",
   "execution_count": 5,
   "metadata": {
    "collapsed": false
   },
   "outputs": [
    {
     "name": "stdout",
     "output_type": "stream",
     "text": [
      "__class__\n",
      "__delattr__\n",
      "__dict__\n",
      "__dir__\n",
      "__doc__\n",
      "__eq__\n",
      "__format__\n",
      "__ge__\n",
      "__getattribute__\n",
      "__gt__\n",
      "__hash__\n",
      "__init__\n",
      "__le__\n",
      "__lt__\n",
      "__module__\n",
      "__ne__\n",
      "__new__\n",
      "__reduce__\n",
      "__reduce_ex__\n",
      "__repr__\n",
      "__setattr__\n",
      "__sizeof__\n",
      "__str__\n",
      "__subclasshook__\n",
      "__weakref__\n",
      "_attrlist\n",
      "_attrtypes\n",
      "_dictsofarrays\n",
      "_intarrays\n",
      "_listsofarrays\n",
      "arrayify\n",
      "atomcharges\n",
      "atomcoords\n",
      "atommasses\n",
      "atomnos\n",
      "charge\n",
      "coreelectrons\n",
      "enthalpy\n",
      "entropy\n",
      "freeenergy\n",
      "getattributes\n",
      "hessian\n",
      "homos\n",
      "listify\n",
      "moenergies\n",
      "moments\n",
      "mult\n",
      "natom\n",
      "nbasis\n",
      "nmo\n",
      "scfenergies\n",
      "scftargets\n",
      "scfvalues\n",
      "setattributes\n",
      "temperature\n",
      "typecheck\n",
      "vibdisps\n",
      "vibfreqs\n",
      "vibirs\n",
      "write\n"
     ]
    }
   ],
   "source": [
    "print('\\n'.join(dir(ccdata)))"
   ]
  },
  {
   "cell_type": "markdown",
   "metadata": {},
   "source": [
    "Aside from the standard double underscore (\"dunder\") private methods, there are a number of attributes that sound like chemical properties."
   ]
  }
 ],
 "metadata": {
  "kernelspec": {
   "display_name": "Python 3",
   "language": "python",
   "name": "python3"
  },
  "language_info": {
   "codemirror_mode": {
    "name": "ipython",
    "version": 3
   },
   "file_extension": ".py",
   "mimetype": "text/x-python",
   "name": "python",
   "nbconvert_exporter": "python",
   "pygments_lexer": "ipython3",
   "version": "3.4.3"
  }
 },
 "nbformat": 4,
 "nbformat_minor": 0
}
