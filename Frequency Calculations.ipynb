{
 "cells": [
  {
   "cell_type": "markdown",
   "metadata": {},
   "source": [
    "# Frequency Calculations"
   ]
  },
  {
   "cell_type": "code",
   "execution_count": 1,
   "metadata": {
    "collapsed": true
   },
   "outputs": [],
   "source": [
    "import numpy as np"
   ]
  },
  {
   "cell_type": "code",
   "execution_count": 2,
   "metadata": {
    "collapsed": true
   },
   "outputs": [],
   "source": [
    "with open('qm_files/drop_0375_0qm_256mm.out') as f:\n",
    "    contents_qmoutput = f.read()"
   ]
  },
  {
   "cell_type": "markdown",
   "metadata": {},
   "source": [
    "## Advanced: calculate frequencies directly from the mass-weighted Hessian"
   ]
  },
  {
   "cell_type": "markdown",
   "metadata": {},
   "source": [
    "How can you prove to yourself that the frequencies printed at the end of a QM output are correct? We can take the Hessian (mass-weighted or otherwise), which is the second derivative of the energy with respect to nuclear displacements,"
   ]
  },
  {
   "cell_type": "markdown",
   "metadata": {},
   "source": [
    "$H_{ij} = \\frac{\\partial^{2} E}{\\partial x_{i} \\partial x_{j}}$,"
   ]
  },
  {
   "cell_type": "markdown",
   "metadata": {},
   "source": [
    "diagonalize it, and multiply the eigenvalues by some constants to obtain vibrational (normal mode) frequencies in wavenumbers.\n",
    "\n",
    "A useful resource for understanding this is given by http://sirius.chem.vt.edu/wiki/doku.php?id=crawdad:programming:project2, which most of this section is derived from.\n",
    "\n",
    "First, we need to locate the Hessian. If we can only find one that isn't mass-weighted, we'll need to do that too."
   ]
  },
  {
   "cell_type": "code",
   "execution_count": 3,
   "metadata": {
    "collapsed": false
   },
   "outputs": [],
   "source": [
    "contents_splitlines = contents_qmoutput.splitlines()"
   ]
  },
  {
   "cell_type": "code",
   "execution_count": 4,
   "metadata": {
    "collapsed": false
   },
   "outputs": [
    {
     "data": {
      "text/plain": [
       "[' CPU 0.00 s  wall 0.00 s',\n",
       " ' CPU 2.38 s  wall 2.38 s',\n",
       " '',\n",
       " ' Total DFTman time = 2.38 CPUs 2.38 Wall',\n",
       " '   1         0          12      0.175973    0.044861',\n",
       " ' CPU 0.00 s  wall 0.00 s',\n",
       " ' CPU 2.38 s  wall 2.38 s',\n",
       " '',\n",
       " ' Total DFTman time = 2.38 CPUs 2.38 Wall',\n",
       " '   2         0          12      0.013238    0.002872',\n",
       " ' CPU 0.00 s  wall 0.00 s',\n",
       " ' CPU 2.38 s  wall 2.38 s',\n",
       " '',\n",
       " ' Total DFTman time = 2.38 CPUs 2.38 Wall',\n",
       " '   3         0          12      0.000766    0.000161',\n",
       " ' CPU 0.00 s  wall 0.00 s',\n",
       " ' CPU 2.38 s  wall 2.38 s',\n",
       " '',\n",
       " ' Total DFTman time = 2.38 CPUs 2.38 Wall',\n",
       " '   4         2          10      0.000037    0.000009',\n",
       " ' CPU 0.00 s  wall 0.00 s',\n",
       " ' CPU 2.05 s  wall 2.05 s',\n",
       " '',\n",
       " ' Total DFTman time = 2.05 CPUs 2.05 Wall',\n",
       " '   5        12           0      0.000000    0.000000    Roots Converged',\n",
       " ' CPU 0.00 s  wall 0.00 s',\n",
       " ' CPU 2.38 s  wall 2.38 s',\n",
       " '',\n",
       " ' Total DFTman time = 2.38 CPUs 2.38 Wall',\n",
       " ' Calculating analytic Hessian of the SCF energy',\n",
       " ' Polarizability Matrix (a.u.)',\n",
       " '            1           2           3',\n",
       " '    1 -14.1036877   5.9021869   3.8220752',\n",
       " '    2   5.9021869 -12.9242546  -3.4382019',\n",
       " '    3   3.8220752  -3.4382019  -9.8274013',\n",
       " '',\n",
       " ' Q-Chem warning in module /home/eric/opt/apps/qchem/trunk_intel_release/drvman/find_multipole_der.C, line 180:',\n",
       " '',\n",
       " ' Net Molecular Charges From Derivative of Dipole Moment are Inconsistent',\n",
       " '',\n",
       " ' Derivative of Dipole Moment Matrix (a.u.)',\n",
       " '            1           2           3',\n",
       " '    1   1.3532527  -0.6985570  -0.4498702',\n",
       " '    2  -0.6950554   1.2348694   0.4228318',\n",
       " '    3  -0.4382401   0.4312256   0.8280995',\n",
       " '    4  -0.6194566   0.4098213   0.2303833',\n",
       " '    5   0.3123932  -0.4631475  -0.1508951',\n",
       " '    6   0.1332474  -0.1283858  -0.2685204',\n",
       " '    7  -0.7742857   0.3676864   0.2681317',\n",
       " '    8   0.4425808  -0.7576751  -0.2752951',\n",
       " '    9   0.3577841  -0.3226636  -0.6073188',\n",
       " ' -----------------------------------------',\n",
       " ' Net:   0.07222   0.07317  -0.00245',\n",
       " ' -----------------------------------------',\n",
       " '',\n",
       " ' CPU 0.00 s  wall 0.00 s',\n",
       " ' CPU 5.59 s  wall 5.59 s',\n",
       " '',\n",
       " ' Total DFTman time = 5.59 CPUs 5.59 Wall',\n",
       " ' ',\n",
       " ' Direct stationary perturbation theory relativistic correction:',\n",
       " ' ',\n",
       " ' rels  =       0.068097265227',\n",
       " ' relv  =      -0.273882349115',\n",
       " ' rel2e =       0.090942503178',\n",
       " ' E_rel =      -0.114842580711',\n",
       " ' ',\n",
       " ' Hessian of the SCF Energy',\n",
       " '            1           2           3           4           5           6',\n",
       " '    1   1.0320326  -0.8205741  -0.5265428  -0.5771301   0.4113205   0.2760194',\n",
       " '    2  -0.8205741   0.8663686   0.4766125   0.4156759  -0.4013503  -0.2245970',\n",
       " '    3  -0.5265428   0.4766125   0.4339413   0.2675925  -0.2138938  -0.2126253',\n",
       " '    4  -0.5771301   0.4156759   0.2675925   0.5964568  -0.4604293  -0.3031803',\n",
       " '    5   0.4113205  -0.4013503  -0.2138938  -0.4604293   0.4124842   0.2481263',\n",
       " '    6   0.2760194  -0.2245970  -0.2126253  -0.3031803   0.2481263   0.1960277',\n",
       " '    7  -0.4490074   0.3972323   0.2570313  -0.0216492   0.0515882   0.0276341',\n",
       " '    8   0.4049835  -0.4666738  -0.2637577   0.0470072  -0.0102116  -0.0231149',\n",
       " '    9   0.2481858  -0.2510492  -0.2186790   0.0377319  -0.0348896   0.0165142',\n",
       " '            7           8           9',\n",
       " '    1  -0.4490074   0.4049835   0.2481858',\n",
       " '    2   0.3972323  -0.4666738  -0.2510492',\n",
       " '    3   0.2570313  -0.2637577  -0.2186790',\n",
       " '    4  -0.0216492   0.0470072   0.0377319',\n",
       " '    5   0.0515882  -0.0102116  -0.0348896',\n",
       " '    6   0.0276341  -0.0231149   0.0165142',\n",
       " '    7   0.4682529  -0.4483464  -0.2827598',\n",
       " '    8  -0.4483464   0.4758137   0.2854735',\n",
       " '    9  -0.2827598   0.2854735   0.1977966',\n",
       " ' Gradient time:  CPU 30.52 s  wall 30.53 s',\n",
       " ' **********************************************************************',\n",
       " ' **                                                                  **',\n",
       " ' **                       VIBRATIONAL ANALYSIS                       **',\n",
       " ' **                       --------------------                       **',\n",
       " ' **                                                                  **',\n",
       " ' **        VIBRATIONAL FREQUENCIES (CM**-1) AND NORMAL MODES         **',\n",
       " ' **     FORCE CONSTANTS (mDYN/ANGSTROM) AND REDUCED MASSES (AMU)     **',\n",
       " ' **                  INFRARED INTENSITIES (KM/MOL)                   **',\n",
       " ' **                                                                  **',\n",
       " ' **********************************************************************',\n",
       " ' ']"
      ]
     },
     "execution_count": 4,
     "metadata": {},
     "output_type": "execute_result"
    }
   ],
   "source": [
    "contents_splitlines[8500:8600]"
   ]
  },
  {
   "cell_type": "markdown",
   "metadata": {},
   "source": [
    "There's a line `Hessian of the SCF Energy`, which sounds like it might not be mass-weighted. First, let's try and extract it."
   ]
  },
  {
   "cell_type": "code",
   "execution_count": 5,
   "metadata": {
    "collapsed": false
   },
   "outputs": [
    {
     "name": "stdout",
     "output_type": "stream",
     "text": [
      " Hessian of the SCF Energy\n",
      "            1           2           3           4           5           6\n",
      "    1   1.0320326  -0.8205741  -0.5265428  -0.5771301   0.4113205   0.2760194\n",
      "    2  -0.8205741   0.8663686   0.4766125   0.4156759  -0.4013503  -0.2245970\n",
      "    3  -0.5265428   0.4766125   0.4339413   0.2675925  -0.2138938  -0.2126253\n",
      "    4  -0.5771301   0.4156759   0.2675925   0.5964568  -0.4604293  -0.3031803\n",
      "    5   0.4113205  -0.4013503  -0.2138938  -0.4604293   0.4124842   0.2481263\n",
      "    6   0.2760194  -0.2245970  -0.2126253  -0.3031803   0.2481263   0.1960277\n",
      "    7  -0.4490074   0.3972323   0.2570313  -0.0216492   0.0515882   0.0276341\n",
      "    8   0.4049835  -0.4666738  -0.2637577   0.0470072  -0.0102116  -0.0231149\n",
      "    9   0.2481858  -0.2510492  -0.2186790   0.0377319  -0.0348896   0.0165142\n",
      "            7           8           9\n",
      "    1  -0.4490074   0.4049835   0.2481858\n",
      "    2   0.3972323  -0.4666738  -0.2510492\n",
      "    3   0.2570313  -0.2637577  -0.2186790\n",
      "    4  -0.0216492   0.0470072   0.0377319\n",
      "    5   0.0515882  -0.0102116  -0.0348896\n",
      "    6   0.0276341  -0.0231149   0.0165142\n",
      "    7   0.4682529  -0.4483464  -0.2827598\n",
      "    8  -0.4483464   0.4758137   0.2854735\n",
      "    9  -0.2827598   0.2854735   0.1977966\n"
     ]
    }
   ],
   "source": [
    "# lists are iterable, but not `iterators` themselves.\n",
    "contents_iter = iter(contents_splitlines)\n",
    "for line in contents_iter:\n",
    "    if 'Hessian of the SCF Energy' in line:\n",
    "        while 'Gradient time:' not in line:\n",
    "            print(line)\n",
    "            line = next(contents_iter)"
   ]
  },
  {
   "cell_type": "markdown",
   "metadata": {
    "collapsed": true
   },
   "source": [
    "The Hessian matrix should have $3N * 3N$ elements, where $N$ is the number of atoms; this is because each atom contributes 3 Cartesian coordinates, and it is two-dimensional because of the double derivative. By this logic, the gradient may be represented by a length $3N$ vector, and cubic force constants by an array of shape $[3N, 3N, 3N]$.\n",
    "\n",
    "Now that we can extract only the lines that contain the Hessian information, let's make a NumPy array that will hold the final results."
   ]
  },
  {
   "cell_type": "code",
   "execution_count": 6,
   "metadata": {
    "collapsed": true
   },
   "outputs": [],
   "source": [
    "N = 3\n",
    "hessian_scf = np.zeros(shape=(3*N, 3*N))"
   ]
  },
  {
   "cell_type": "markdown",
   "metadata": {},
   "source": [
    "Here comes the tricky Python bits. For matrices, Q-Chem prints a maximum of 6 columns per block; this info is necessary for keeping track of where we are during parsing."
   ]
  },
  {
   "cell_type": "code",
   "execution_count": 7,
   "metadata": {
    "collapsed": true
   },
   "outputs": [],
   "source": [
    "ncols_block = 6"
   ]
  },
  {
   "cell_type": "markdown",
   "metadata": {},
   "source": [
    "Here's the machinery that will do the actual iteration over the matrix, leaving out the part where the results are stored."
   ]
  },
  {
   "cell_type": "code",
   "execution_count": 8,
   "metadata": {
    "collapsed": false
   },
   "outputs": [
    {
     "name": "stdout",
     "output_type": "stream",
     "text": [
      "            1           2           3           4           5           6\n",
      "    1   1.0320326  -0.8205741  -0.5265428  -0.5771301   0.4113205   0.2760194\n",
      "    2  -0.8205741   0.8663686   0.4766125   0.4156759  -0.4013503  -0.2245970\n",
      "    3  -0.5265428   0.4766125   0.4339413   0.2675925  -0.2138938  -0.2126253\n",
      "    4  -0.5771301   0.4156759   0.2675925   0.5964568  -0.4604293  -0.3031803\n",
      "    5   0.4113205  -0.4013503  -0.2138938  -0.4604293   0.4124842   0.2481263\n",
      "    6   0.2760194  -0.2245970  -0.2126253  -0.3031803   0.2481263   0.1960277\n",
      "    7  -0.4490074   0.3972323   0.2570313  -0.0216492   0.0515882   0.0276341\n",
      "    8   0.4049835  -0.4666738  -0.2637577   0.0470072  -0.0102116  -0.0231149\n",
      "    9   0.2481858  -0.2510492  -0.2186790   0.0377319  -0.0348896   0.0165142\n",
      "            7           8           9\n",
      "    1  -0.4490074   0.4049835   0.2481858\n",
      "    2   0.3972323  -0.4666738  -0.2510492\n",
      "    3   0.2570313  -0.2637577  -0.2186790\n",
      "    4  -0.0216492   0.0470072   0.0377319\n",
      "    5   0.0515882  -0.0102116  -0.0348896\n",
      "    6   0.0276341  -0.0231149   0.0165142\n",
      "    7   0.4682529  -0.4483464  -0.2827598\n",
      "    8  -0.4483464   0.4758137   0.2854735\n",
      "    9  -0.2827598   0.2854735   0.1977966\n"
     ]
    }
   ],
   "source": [
    "contents_iter = iter(contents_splitlines)\n",
    "\n",
    "for line in contents_iter:\n",
    "    if 'Hessian of the SCF Energy' in line:\n",
    "        # skip the line containing the header\n",
    "        line = next(contents_iter)\n",
    "        \n",
    "        # keep track of how many \"columns\" there are left; better than searching\n",
    "        # for the gradient line\n",
    "        ncols_remaining = 3*N\n",
    "        while ncols_remaining > 0:\n",
    "            # this must be the column header\n",
    "            if len(line.split()) == min(ncols_block, ncols_remaining):\n",
    "                print(line)\n",
    "                ncols_remaining -= ncols_block\n",
    "                sline = line.split()\n",
    "                colmin, colmax = int(sline[0]) - 1, int(sline[-1])\n",
    "                line = next(contents_iter)\n",
    "            # iterate over the rows\n",
    "            for row in range(3*N):\n",
    "                print(line)\n",
    "                line = next(contents_iter)"
   ]
  },
  {
   "cell_type": "markdown",
   "metadata": {},
   "source": [
    "An important note: the Hessian (and all other matrices in the output) start from 1, but Python indices for lists and arrays start at 0; this is why `int() - 1` shows up. But why not for `colmax`? Because of how Python slicing for lists and arrays doesn't include the ending number. (Elaborate?)"
   ]
  },
  {
   "cell_type": "code",
   "execution_count": 9,
   "metadata": {
    "collapsed": false
   },
   "outputs": [],
   "source": [
    "contents_iter = iter(contents_splitlines)\n",
    "\n",
    "for line in contents_iter:\n",
    "    if 'Hessian of the SCF Energy' in line:\n",
    "        # skip the line containing the header\n",
    "        line = next(contents_iter)\n",
    "        \n",
    "        # keep track of how many \"columns\" there are left; better than searching\n",
    "        # for the gradient line\n",
    "        ncols_remaining = 3*N\n",
    "        while ncols_remaining > 0:\n",
    "            # this must be the column header\n",
    "            if len(line.split()) == min(ncols_block, ncols_remaining):\n",
    "                ncols_remaining -= ncols_block\n",
    "                sline = line.split()\n",
    "                colmin, colmax = int(sline[0]) - 1, int(sline[-1])\n",
    "                line = next(contents_iter)\n",
    "            # iterate over the rows\n",
    "            for row in range(3*N):\n",
    "                sline = line.split()\n",
    "                rowidx = int(sline[0]) - 1\n",
    "                hessian_scf[rowidx, colmin:colmax] = list(map(float, sline[1:]))\n",
    "                line = next(contents_iter)"
   ]
  },
  {
   "cell_type": "code",
   "execution_count": 10,
   "metadata": {
    "collapsed": false
   },
   "outputs": [
    {
     "data": {
      "text/plain": [
       "array([[ 1.0320326, -0.8205741, -0.5265428, -0.5771301,  0.4113205,\n",
       "         0.2760194, -0.4490074,  0.4049835,  0.2481858],\n",
       "       [-0.8205741,  0.8663686,  0.4766125,  0.4156759, -0.4013503,\n",
       "        -0.224597 ,  0.3972323, -0.4666738, -0.2510492],\n",
       "       [-0.5265428,  0.4766125,  0.4339413,  0.2675925, -0.2138938,\n",
       "        -0.2126253,  0.2570313, -0.2637577, -0.218679 ],\n",
       "       [-0.5771301,  0.4156759,  0.2675925,  0.5964568, -0.4604293,\n",
       "        -0.3031803, -0.0216492,  0.0470072,  0.0377319],\n",
       "       [ 0.4113205, -0.4013503, -0.2138938, -0.4604293,  0.4124842,\n",
       "         0.2481263,  0.0515882, -0.0102116, -0.0348896],\n",
       "       [ 0.2760194, -0.224597 , -0.2126253, -0.3031803,  0.2481263,\n",
       "         0.1960277,  0.0276341, -0.0231149,  0.0165142],\n",
       "       [-0.4490074,  0.3972323,  0.2570313, -0.0216492,  0.0515882,\n",
       "         0.0276341,  0.4682529, -0.4483464, -0.2827598],\n",
       "       [ 0.4049835, -0.4666738, -0.2637577,  0.0470072, -0.0102116,\n",
       "        -0.0231149, -0.4483464,  0.4758137,  0.2854735],\n",
       "       [ 0.2481858, -0.2510492, -0.218679 ,  0.0377319, -0.0348896,\n",
       "         0.0165142, -0.2827598,  0.2854735,  0.1977966]])"
      ]
     },
     "execution_count": 10,
     "metadata": {},
     "output_type": "execute_result"
    }
   ],
   "source": [
    "hessian_scf"
   ]
  },
  {
   "cell_type": "markdown",
   "metadata": {},
   "source": [
    "The SCF Hessian has successfully been parsed from the output file and stored in a NumPy array. Since it needs to be mass-weighted, we need the masses of each atom. They're printed at the very end of the output file, and extracting them should be easier than for the Hessian."
   ]
  },
  {
   "cell_type": "code",
   "execution_count": 11,
   "metadata": {
    "collapsed": false
   },
   "outputs": [
    {
     "name": "stdout",
     "output_type": "stream",
     "text": [
      "['Atom', '1', 'Element', 'C', 'Has', 'Mass', '12.00000']\n",
      "['Atom', '2', 'Element', 'O', 'Has', 'Mass', '15.99491']\n",
      "['Atom', '3', 'Element', 'O', 'Has', 'Mass', '15.99491']\n"
     ]
    }
   ],
   "source": [
    "contents_iter = iter(contents_splitlines)\n",
    "\n",
    "for line in contents_iter:\n",
    "    if 'Zero point vibrational energy:' in line:\n",
    "        line = next(contents_iter)\n",
    "        line = next(contents_iter)\n",
    "        while 'Molecular Mass:' not in line:\n",
    "            print(line.split())\n",
    "            line = next(contents_iter)"
   ]
  },
  {
   "cell_type": "code",
   "execution_count": 12,
   "metadata": {
    "collapsed": false
   },
   "outputs": [],
   "source": [
    "masses = []\n",
    "\n",
    "contents_iter = iter(contents_splitlines)\n",
    "\n",
    "for line in contents_iter:\n",
    "    if 'Zero point vibrational energy:' in line:\n",
    "        line = next(contents_iter)\n",
    "        line = next(contents_iter)\n",
    "        while 'Molecular Mass:' not in line:\n",
    "            masses.append(float(line.split()[-1]))\n",
    "            line = next(contents_iter)"
   ]
  },
  {
   "cell_type": "code",
   "execution_count": 13,
   "metadata": {
    "collapsed": false
   },
   "outputs": [
    {
     "data": {
      "text/plain": [
       "[12.0, 15.99491, 15.99491]"
      ]
     },
     "execution_count": 13,
     "metadata": {},
     "output_type": "execute_result"
    }
   ],
   "source": [
    "masses"
   ]
  },
  {
   "cell_type": "markdown",
   "metadata": {},
   "source": [
    "Hopefully alarm bells are going off in your head right about now. **Units!** What units are we working in? Units units units!\n",
    "\n",
    "The masses above are in amu (https://en.wikipedia.org/wiki/Atomic_mass_unit).\n",
    "\n",
    "The SCF Hessian is certainly in atomic units (https://en.wikipedia.org/wiki/Atomic_units). Internally, all quantum chemistry programs work in atomic units. From Wikipedia:\n",
    "\n",
    "> This article deals with Hartree atomic units, where the numerical values of the following four fundamental physical constants are all unity by definition:\n",
    "\n",
    "> * Electron mass $m_\\text{e}$;\n",
    "> * Elementary charge $e$;\n",
    "> * Reduced Planck's constant $\\hbar = h/(2 \\pi)$;\n",
    "> * Coulomb's constant $k_\\text{e} = 1/(4 \\pi \\epsilon_0)$.\n",
    "\n",
    "Since the Hessian is the double derivative of the energy with respect to nuclear diplacements (which can be considered positions or lengths), it will have units of $[\\textrm{energy}][\\textrm{length}]^{-2}$, which in atomic units is $E_{\\textrm{h}}/a_{0}^{2}$ (hartree per bohr squared)."
   ]
  },
  {
   "cell_type": "markdown",
   "metadata": {},
   "source": [
    "Now to mass-weight the SCF Hessian. The ordering along each dimension of the matrix is first atom x-coord, first atom y-coord, first atom z-coord, second atom x-coord, and so on. This means that every three columns or rows, we switch to a new atom. We'll be able to use integer division (`// 3`) to accomplish this cleanly."
   ]
  },
  {
   "cell_type": "code",
   "execution_count": 14,
   "metadata": {
    "collapsed": true
   },
   "outputs": [],
   "source": [
    "# First, make a copy of the original Hessian array so we don't modify that one.\n",
    "hessian_mass_weighted = hessian_scf.copy()\n",
    "\n",
    "# We know the dimension a priori to be 3*N, but what if we don't? Use an array attribute!\n",
    "shape = hessian_mass_weighted.shape\n",
    "# shape is a tuple, here we \"unpack\" it.\n",
    "nrows, ncols = shape"
   ]
  },
  {
   "cell_type": "code",
   "execution_count": 15,
   "metadata": {
    "collapsed": true
   },
   "outputs": [],
   "source": [
    "import math"
   ]
  },
  {
   "cell_type": "code",
   "execution_count": 16,
   "metadata": {
    "collapsed": false
   },
   "outputs": [],
   "source": [
    "for i in range(nrows):\n",
    "    for j in range(ncols):\n",
    "        _denom = math.sqrt(masses[i // 3] * masses[j // 3])\n",
    "        hessian_mass_weighted[i, j] /= _denom"
   ]
  },
  {
   "cell_type": "code",
   "execution_count": 17,
   "metadata": {
    "collapsed": false,
    "scrolled": true
   },
   "outputs": [
    {
     "data": {
      "text/plain": [
       "array([[ 0.08600272, -0.06838118, -0.04387857, -0.0416574 ,  0.02968922,\n",
       "         0.01992315, -0.03240947,  0.02923182,  0.01791412],\n",
       "       [-0.06838118,  0.07219738,  0.03971771,  0.0300036 , -0.02896957,\n",
       "        -0.01621147,  0.02867233, -0.03368464, -0.0181208 ],\n",
       "       [-0.04387857,  0.03971771,  0.03616178,  0.0193149 , -0.01543891,\n",
       "        -0.01534735,  0.01855259, -0.0190381 , -0.01578431],\n",
       "       [-0.0416574 ,  0.0300036 ,  0.0193149 ,  0.03729041, -0.02878599,\n",
       "        -0.0189548 , -0.00135351,  0.00293888,  0.00235899],\n",
       "       [ 0.02968922, -0.02896957, -0.01543891, -0.02878599,  0.02578847,\n",
       "         0.01551283,  0.00322529, -0.00063843, -0.00218129],\n",
       "       [ 0.01992315, -0.01621147, -0.01534735, -0.0189548 ,  0.01551283,\n",
       "         0.01225563,  0.00172768, -0.00144514,  0.00103247],\n",
       "       [-0.03240947,  0.02867233,  0.01855259, -0.00135351,  0.00322529,\n",
       "         0.00172768,  0.02927512, -0.02803057, -0.01767811],\n",
       "       [ 0.02923182, -0.03368464, -0.0190381 ,  0.00293888, -0.00063843,\n",
       "        -0.00144514, -0.02803057,  0.02974782,  0.01784777],\n",
       "       [ 0.01791412, -0.0181208 , -0.01578431,  0.00235899, -0.00218129,\n",
       "         0.00103247, -0.01767811,  0.01784777,  0.01236622]])"
      ]
     },
     "execution_count": 17,
     "metadata": {},
     "output_type": "execute_result"
    }
   ],
   "source": [
    "hessian_mass_weighted"
   ]
  },
  {
   "cell_type": "markdown",
   "metadata": {},
   "source": [
    "We're ready to diagonalize the mass-weighted Hessian. If $\\textrm{F}^{M}$ is the mass-weighted Hessian matrix, then the eigensystem defined by"
   ]
  },
  {
   "cell_type": "markdown",
   "metadata": {},
   "source": [
    "$\\textrm{F}^{M} \\textbf{L} = \\textbf{L} \\Lambda$"
   ]
  },
  {
   "cell_type": "markdown",
   "metadata": {},
   "source": [
    "results in the eigenvectors $\\textbf{L}$, which are the **normal modes** of the system (the displacement vectors for each vibration, orthogonal to each other), and the eigenvalues $\\Lambda$, which are the frequencies associated with each normal mode."
   ]
  },
  {
   "cell_type": "code",
   "execution_count": 18,
   "metadata": {
    "collapsed": true
   },
   "outputs": [],
   "source": [
    "import scipy.linalg as spl"
   ]
  },
  {
   "cell_type": "code",
   "execution_count": 24,
   "metadata": {
    "collapsed": true
   },
   "outputs": [],
   "source": [
    "eigvals, eigvecs = spl.eig(hessian_mass_weighted)"
   ]
  },
  {
   "cell_type": "markdown",
   "metadata": {},
   "source": [
    "The Hessian is Hermitian, so we could use `spl.eigh`, and not return any complex values, but they're useful for illustrating a point to be made later on."
   ]
  },
  {
   "cell_type": "markdown",
   "metadata": {},
   "source": [
    "The eigenvalues of the mass-weighted Hessian will have the same units as the mass-weighted Hessian itself, which are ($[\\textrm{energy}][\\textrm{length}]^{-2}[\\textrm{mass}]^{-1}$), or $\\frac{E_{\\textrm{h}}}{a_{0}^{2}m_{\\textrm{e}}}$. These need to be converted to wavenumbers.\n",
    "\n",
    "I'll save everyone the trouble of doing this conversion; I've done it once and that was enough."
   ]
  },
  {
   "cell_type": "code",
   "execution_count": 20,
   "metadata": {
    "collapsed": false
   },
   "outputs": [],
   "source": [
    "bohr2m = 0.529177249e-10\n",
    "hartree2joule = 4.35974434e-18\n",
    "speed_of_light = 299792458\n",
    "avogadro = 6.0221413e+23"
   ]
  },
  {
   "cell_type": "code",
   "execution_count": 21,
   "metadata": {
    "collapsed": false,
    "scrolled": true
   },
   "outputs": [
    {
     "data": {
      "text/plain": [
       "5140.486777894163"
      ]
     },
     "execution_count": 21,
     "metadata": {},
     "output_type": "execute_result"
    }
   ],
   "source": [
    "vib_constant = math.sqrt((avogadro*hartree2joule*1000)/(bohr2m*bohr2m))/(2*math.pi*speed_of_light*100)\n",
    "vib_constant"
   ]
  },
  {
   "cell_type": "markdown",
   "metadata": {},
   "source": [
    "The vibrational frequencies are related to the square roots of the eigenvalues, multiplied by the above constant:"
   ]
  },
  {
   "cell_type": "markdown",
   "metadata": {},
   "source": [
    "$\\omega_{i} = \\textrm{constant} \\times \\sqrt{\\lambda_{i}}$"
   ]
  },
  {
   "cell_type": "code",
   "execution_count": 29,
   "metadata": {
    "collapsed": false
   },
   "outputs": [
    {
     "data": {
      "text/plain": [
       "array([ 2508.10542052  +0.j        ,  1414.01700548  +0.j        ,\n",
       "         606.19694253  +0.j        ,   618.38609054  +0.j        ,\n",
       "           0.00000000+131.13466363j,     0.00000000 +95.09084298j,\n",
       "          40.64456807  +0.j        ,     0.00000000 +36.54141755j,\n",
       "           0.00000000 +30.66838975j])"
      ]
     },
     "execution_count": 29,
     "metadata": {},
     "output_type": "execute_result"
    }
   ],
   "source": [
    "vibfreqs = np.sqrt(eigvals) * vib_constant\n",
    "vibfreqs"
   ]
  },
  {
   "cell_type": "markdown",
   "metadata": {},
   "source": [
    "Interesting! Some of our frequencies are imaginary, which NumPy handles properly (`math.sqrt(-1.0)` would throw an error). What does this mean?\n",
    "\n",
    "The eigenvalues of the full molecular Hessian contain not just vibrational frequencies, but those corresponding to rotational and translational motion (though one would want to convert those to periods from frequencies). For non-linear molecules, this results in $3N-6$ vibrations, after subtracting out the 3 translations and 3 rotations. For linear molecules, this is $3N-5$.\n",
    "\n",
    "Imaginary frequencies would normally mean we aren't at a stationary point on the potential energy surface (PES), but notice that these imaginary frequencies will be removed once we take into account translational and rotational motion. They could be zeroed out completely if one projects out translations and rotations from the Hessian, which we won't do for now."
   ]
  },
  {
   "cell_type": "code",
   "execution_count": 36,
   "metadata": {
    "collapsed": false
   },
   "outputs": [
    {
     "data": {
      "text/plain": [
       "array([ 2508.10542052,  1414.01700548,   606.19694253,   618.38609054])"
      ]
     },
     "execution_count": 36,
     "metadata": {},
     "output_type": "execute_result"
    }
   ],
   "source": [
    "vibfreqs_calculated = vibfreqs[:(3*N)-5].real\n",
    "vibfreqs_calculated"
   ]
  },
  {
   "cell_type": "markdown",
   "metadata": {},
   "source": [
    "How do the frequencies we've calculated compare with those printed in the output file?"
   ]
  },
  {
   "cell_type": "code",
   "execution_count": 44,
   "metadata": {
    "collapsed": true
   },
   "outputs": [],
   "source": [
    "vibfreqs_printed = np.array([2508.03, 1413.97, 605.67])"
   ]
  },
  {
   "cell_type": "code",
   "execution_count": 38,
   "metadata": {
    "collapsed": true
   },
   "outputs": [],
   "source": [
    "%matplotlib inline\n",
    "import matplotlib.pyplot as plt"
   ]
  },
  {
   "cell_type": "code",
   "execution_count": 43,
   "metadata": {
    "collapsed": false
   },
   "outputs": [
    {
     "data": {
      "text/plain": [
       "<matplotlib.legend.Legend at 0x10f944c50>"
      ]
     },
     "execution_count": 43,
     "metadata": {},
     "output_type": "execute_result"
    },
    {
     "data": {
      "image/png": "[encoded data removed]",
      "text/plain": [
       "<matplotlib.figure.Figure at 0x10f5517b8>"
      ]
     },
     "metadata": {},
     "output_type": "display_data"
    }
   ],
   "source": [
    "fig, ax = plt.subplots()\n",
    "\n",
    "xticks = range(len(vibfreqs_printed))\n",
    "\n",
    "ax.plot(xticks, vibfreqs_calculated[:-1], label='calculated', marker='o')\n",
    "ax.plot(xticks, vibfreqs_printed, label='printed', marker='o')\n",
    "\n",
    "ax.set_ylabel(r'frequency ($\\mathrm{cm}^{-1}$)')\n",
    "\n",
    "ax.legend(loc='best', fancybox=True)"
   ]
  },
  {
   "cell_type": "markdown",
   "metadata": {},
   "source": [
    "The plot doesn't tell us very much, since the differences are all < 1 $\\textrm{cm}^{-1}$:"
   ]
  },
  {
   "cell_type": "code",
   "execution_count": 45,
   "metadata": {
    "collapsed": false
   },
   "outputs": [
    {
     "data": {
      "text/plain": [
       "array([ 0.07542052,  0.04700548,  0.52694253])"
      ]
     },
     "execution_count": 45,
     "metadata": {},
     "output_type": "execute_result"
    }
   ],
   "source": [
    "vibfreqs_calculated[:-1] - vibfreqs_printed"
   ]
  },
  {
   "cell_type": "markdown",
   "metadata": {},
   "source": [
    "So far, so good; however, why would there be any discrepancies at all?\n",
    "\n",
    "1. Numerical precision regarding constants used. The constants above might have more or fewer decimal places used than the QM package.\n",
    "2. Numerical precision regarding the printed Hessian. The human-readable output is limited to 6 decimal places; machine-precision for doubles is ~1e-16.\n",
    "3. Numerical precision regarding the atomic masses used. Ours didn't have many decimal places.\n",
    "4. Contamination of the Hessian due to translations and rotations. Q-Chem projects these out of the Hessian before calculating the vibrational frequencies, but doesn't print this matrix unless `vibman_print` gets increased in the input file."
   ]
  },
  {
   "cell_type": "markdown",
   "metadata": {},
   "source": [
    "There is one more discrepancy. Notice that there are only 3 printed values, but 4 calculated values? Hmm..."
   ]
  }
 ],
 "metadata": {
  "kernelspec": {
   "display_name": "Python 3",
   "language": "python",
   "name": "python3"
  },
  "language_info": {
   "codemirror_mode": {
    "name": "ipython",
    "version": 3
   },
   "file_extension": ".py",
   "mimetype": "text/x-python",
   "name": "python",
   "nbconvert_exporter": "python",
   "pygments_lexer": "ipython3",
   "version": "3.4.3"
  }
 },
 "nbformat": 4,
 "nbformat_minor": 0
}
